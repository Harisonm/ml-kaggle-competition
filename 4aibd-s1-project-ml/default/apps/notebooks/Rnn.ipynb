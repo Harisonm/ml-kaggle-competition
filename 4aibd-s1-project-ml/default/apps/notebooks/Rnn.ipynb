{
 "cells": [
  {
   "cell_type": "markdown",
   "metadata": {
    "id": "view-in-github",
    "colab_type": "text"
   },
   "source": [
    "<a href=\"https://colab.research.google.com/github/Harisonm/4aibd-s1-project-ml/blob/yas_branch/4aibd-s1-project-ml/default/apps/notebooks/Rnn.ipynb\" target=\"_parent\"><img src=\"https://colab.research.google.com/assets/colab-badge.svg\" alt=\"Open In Colab\"/></a>"
   ]
  },
  {
   "cell_type": "code",
   "execution_count": null,
   "metadata": {
    "id": "azyngzM-W0XM",
    "colab_type": "code",
    "colab": {},
    "collapsed": false
   },
   "outputs": [
    {
     "name": "stderr",
     "output_type": "stream",
     "text": [
      "Using TensorFlow backend.\n"
     ]
    }
   ],
   "source": [
    "# Simple RNN model for CIFAR-10\n",
    "import numpy\n",
    "from keras.datasets import cifar10\n",
    "from keras.models import Sequential\n",
    "from keras.layers import Dense\n",
    "from keras.layers import Dropout\n",
    "from keras.layers import LSTM\n",
    "from keras.constraints import maxnorm\n",
    "from keras.optimizers import SGD\n",
    "from keras.utils import np_utils\n",
    "from keras import backend as K\n",
    "from keras.callbacks import TensorBoard"
   ]
  },
  {
   "cell_type": "code",
   "execution_count": 2,
   "metadata": {
    "id": "kNB_edwyW0Xd",
    "colab_type": "code",
    "colab": {}
   },
   "outputs": [],
   "source": [
    "K.set_image_dim_ordering('th')"
   ]
  },
  {
   "cell_type": "code",
   "execution_count": 3,
   "metadata": {
    "id": "fFeuQewYW0Xm",
    "colab_type": "code",
    "colab": {}
   },
   "outputs": [],
   "source": [
    "# fix random seed for reproducibility\n",
    "seed = 7\n",
    "numpy.random.seed(seed)\n",
    "\n",
    "batch_size = 128"
   ]
  },
  {
   "cell_type": "code",
   "execution_count": 4,
   "metadata": {
    "id": "oUOVeLkmW0Xw",
    "colab_type": "code",
    "colab": {}
   },
   "outputs": [],
   "source": [
    "# load data\n",
    "(X_train, y_train), (X_test, y_test) = cifar10.load_data()"
   ]
  },
  {
   "cell_type": "code",
   "execution_count": 5,
   "metadata": {
    "id": "eGzzm6oOW0X5",
    "colab_type": "code",
    "colab": {}
   },
   "outputs": [],
   "source": [
    "# normalize inputs from 0-255 to 0.0-1.0\n",
    "X_train = X_train.astype('float32')\n",
    "X_test = X_test.astype('float32')\n",
    "X_train = X_train / 255.0\n",
    "X_test = X_test / 255.0"
   ]
  },
  {
   "cell_type": "code",
   "execution_count": 6,
   "metadata": {
    "id": "jBBBin-xW0YD",
    "colab_type": "code",
    "colab": {}
   },
   "outputs": [],
   "source": [
    "# one hot encode outputs\n",
    "y_train = np_utils.to_categorical(y_train)\n",
    "y_test = np_utils.to_categorical(y_test)\n",
    "num_classes = y_test.shape[1]"
   ]
  },
  {
   "cell_type": "code",
   "execution_count": 7,
   "metadata": {
    "id": "ZzJr34xE8Rol",
    "colab_type": "code",
    "colab": {}
   },
   "outputs": [],
   "source": [
    "#reshape X\n",
    "X_train = numpy.reshape(X_train, (len(X_train),1024, 3))\n",
    "\n",
    "X_test = numpy.reshape(X_test, (len(X_test),1024, 3))\n"
   ]
  },
  {
   "cell_type": "code",
   "execution_count": 8,
   "metadata": {
    "id": "lJRJ6AkfW0YP",
    "colab_type": "code",
    "colab": {}
   },
   "outputs": [],
   "source": [
    "# Create the model\n",
    "model = Sequential()\n",
    "model.add(LSTM(300, input_shape=(1024, 3), \n",
    "                    activation='relu', kernel_constraint=maxnorm(3),\n",
    "                    return_sequences=True\n",
    "              ))\n",
    "model.add(Dropout(0.2))\n",
    "model.add(LSTM(300, activation='relu', kernel_constraint=maxnorm(3)))\n",
    "model.add(Dropout(0.2))\n",
    "model.add(Dense(num_classes, activation='softmax'))"
   ]
  },
  {
   "cell_type": "code",
   "execution_count": 9,
   "metadata": {
    "id": "jOrVZHakW0YX",
    "colab_type": "code",
    "colab": {},
    "collapsed": false
   },
   "outputs": [
    {
     "name": "stdout",
     "output_type": "stream",
     "text": [
      "_________________________________________________________________\nLayer (type)                 Output Shape              Param #   \n=================================================================\nlstm_1 (LSTM)                (None, 1024, 300)         364800    \n_________________________________________________________________\ndropout_1 (Dropout)          (None, 1024, 300)         0         \n_________________________________________________________________\nlstm_2 (LSTM)                (None, 300)               721200    \n_________________________________________________________________\ndropout_2 (Dropout)          (None, 300)               0         \n_________________________________________________________________\ndense_1 (Dense)              (None, 10)                3010      \n=================================================================\nTotal params: 1,089,010\nTrainable params: 1,089,010\nNon-trainable params: 0\n_________________________________________________________________\nNone\n"
     ]
    }
   ],
   "source": [
    "# Compile model\n",
    "epochs = 25\n",
    "lrate = 0.01\n",
    "decay = lrate/epochs\n",
    "sgd = SGD(lr=lrate, momentum=0.9, decay=decay, nesterov=False)\n",
    "model.compile(loss='categorical_crossentropy', optimizer=sgd, metrics=['accuracy'])\n",
    "print(model.summary())"
   ]
  },
  {
   "cell_type": "code",
   "execution_count": 10,
   "metadata": {
    "id": "nDKS7izcW0Yg",
    "colab_type": "code",
    "colab": {}
   },
   "outputs": [],
   "source": [
    "model_str = \"RNN_\" + str(epochs) + \"_epochs_\" + \"cifar10\" + \"categorical_crossentropy\"\n",
    "\n",
    "#model.save(\"./tensorboard/saved_models\" + model_str, True, True)"
   ]
  },
  {
   "cell_type": "code",
   "execution_count": 11,
   "metadata": {
    "id": "ok-bObNSW0Yt",
    "colab_type": "code",
    "colab": {}
   },
   "outputs": [],
   "source": [
    "# Tensorboard callback\n",
    "tb_callback = TensorBoard(\n",
    "    log_dir=\"./tensorboard/logs/\" + \"RNN\" + \"_epochs_\" + str(epochs) + \"RNN_same_relu_softmax\")"
   ]
  },
  {
   "cell_type": "code",
   "execution_count": 12,
   "metadata": {
    "id": "_d4dA2IeW0Y2",
    "colab_type": "code",
    "colab": {},
    "collapsed": false
   },
   "outputs": [
    {
     "name": "stdout",
     "output_type": "stream",
     "text": [
      "Train on 50000 samples, validate on 10000 samples\nEpoch 1/25\n"
     ]
    }
   ],
   "source": [
    "# Fit the model\n",
    "# batch_size -> a modifier selon la carte graphique\n",
    "\n",
    "model.fit(X_train, y_train,\n",
    "          validation_data=(X_test, y_test),\n",
    "          epochs=epochs,\n",
    "          batch_size=32)\n",
    "# Final evaluation of the model\n",
    "scores = model.evaluate(X_test, y_test, verbose=0)\n",
    "print(\"Accuracy: %.2f%%\" % (scores[1]*100))"
   ]
  },
  {
   "cell_type": "code",
   "execution_count": null,
   "metadata": {},
   "outputs": [],
   "source": []
  }
 ],
 "metadata": {
  "colab": {
   "name": "Rnn.ipynb",
   "version": "0.3.2",
   "provenance": [],
   "include_colab_link": true
  },
  "kernelspec": {
   "display_name": "Python 2",
   "language": "python",
   "name": "python2"
  }
 },
 "nbformat": 4,
 "nbformat_minor": 0
}
