{
 "cells": [
  {
   "cell_type": "code",
   "execution_count": 20,
   "metadata": {},
   "outputs": [],
   "source": [
    "from keras.optimizers import SGD\n",
    "from keras.datasets import cifar10\n",
    "from keras.losses import mse, logcosh, binary_crossentropy, categorical_crossentropy\n",
    "from keras.activations import relu, elu, softmax, sigmoid, linear\n",
    "from keras.constraints import maxnorm\n",
    "from numpy.random import random\n",
    "import sys"
   ]
  },
  {
   "cell_type": "code",
   "execution_count": 2,
   "metadata": {},
   "outputs": [
    {
     "name": "stderr",
     "output_type": "stream",
     "text": [
      "Using TensorFlow backend.\n"
     ]
    }
   ],
   "source": []
  },
  {
   "cell_type": "code",
   "execution_count": 45,
   "metadata": {},
   "outputs": [],
   "source": [
    "lr = random() * (0.1 - 0.0001) + 0.0001\n",
    "momentum = random() * (0.1 - 0.0001) + 0.0001"
   ]
  },
  {
   "cell_type": "code",
   "execution_count": 46,
   "metadata": {},
   "outputs": [],
   "source": [
    "Param = {'input_shape': 3072,\n",
    "         'input_shape_rnn': (32, 96),\n",
    "         'input_shape_cnn': (32, (3, 3)),\n",
    "         'lr': lr,\n",
    "         'hidden_dim': 128,\n",
    "         'units': 512,\n",
    "         'unitsSlp': 10,\n",
    "         'last_units': 10,\n",
    "         'first_neuron': [4, 8, 16, 32, 64],\n",
    "         'hidden_layers': [2, 4, 6, 8, 9, 10, 20, 25, 30],\n",
    "         'kernel_constraint': maxnorm(3),\n",
    "         'batch_size': (64, 128, 512, 1024, 2048),\n",
    "         'epochs': [1000],\n",
    "         'dropout': (0, 0.5, 5, 1),\n",
    "         'padding': 'same',\n",
    "         'metrics': ['accuracy'],\n",
    "         'weight_regulizer': [None],\n",
    "         'emb_output_dims': [None],\n",
    "         'shape': ['brick', 'long_funnel'],\n",
    "         'optimizer': ['adam', 'Nadam', 'RMSprop'],\n",
    "         'losses': [mse, logcosh, binary_crossentropy, categorical_crossentropy],\n",
    "         'activation': [relu, elu, linear],\n",
    "         'last_activation': [softmax, sigmoid],\n",
    "         'nb_classes': 10}"
   ]
  },
  {
   "cell_type": "code",
   "execution_count": 47,
   "metadata": {},
   "outputs": [],
   "source": [
    "decay = lr/Param['epochs'][0]"
   ]
  },
  {
   "cell_type": "code",
   "execution_count": 48,
   "metadata": {},
   "outputs": [
    {
     "data": {
      "text/plain": [
       "3.514486607075987e-05"
      ]
     },
     "execution_count": 48,
     "metadata": {},
     "output_type": "execute_result"
    }
   ],
   "source": [
    "decay"
   ]
  },
  {
   "cell_type": "code",
   "execution_count": 55,
   "metadata": {},
   "outputs": [],
   "source": [
    "Param['optimizer'].append(SGD(lr=lr, momentum=momentum, decay=0.0, nesterov=False))"
   ]
  },
  {
   "cell_type": "code",
   "execution_count": 56,
   "metadata": {},
   "outputs": [
    {
     "data": {
      "text/plain": [
       "{'input_shape': 3072,\n",
       " 'input_shape_rnn': (32, 96),\n",
       " 'input_shape_cnn': (32, (3, 3)),\n",
       " 'lr': 0.03514486607075987,\n",
       " 'hidden_dim': 128,\n",
       " 'units': 512,\n",
       " 'unitsSlp': 10,\n",
       " 'last_units': 10,\n",
       " 'first_neuron': [4, 8, 16, 32, 64],\n",
       " 'hidden_layers': [2, 4, 6, 8, 9, 10, 20, 25, 30],\n",
       " 'kernel_constraint': <keras.constraints.MaxNorm at 0x7f1321263518>,\n",
       " 'batch_size': (64, 128, 512, 1024, 2048),\n",
       " 'epochs': [1000],\n",
       " 'dropout': (0, 0.5, 5, 1),\n",
       " 'padding': 'same',\n",
       " 'metrics': ['accuracy'],\n",
       " 'weight_regulizer': [None],\n",
       " 'emb_output_dims': [None],\n",
       " 'shape': ['brick', 'long_funnel'],\n",
       " 'optimizer': ['adam',\n",
       "  'Nadam',\n",
       "  'RMSprop',\n",
       "  <keras.optimizers.SGD at 0x7f13212d3668>],\n",
       " 'losses': [<function keras.losses.mean_squared_error(y_true, y_pred)>,\n",
       "  <function keras.losses.logcosh(y_true, y_pred)>,\n",
       "  <function keras.losses.binary_crossentropy(y_true, y_pred)>,\n",
       "  <function keras.losses.categorical_crossentropy(y_true, y_pred)>],\n",
       " 'activation': [<function keras.activations.relu(x, alpha=0.0, max_value=None, threshold=0.0)>,\n",
       "  <function keras.activations.elu(x, alpha=1.0)>,\n",
       "  <function keras.activations.linear(x)>],\n",
       " 'last_activation': [<function keras.activations.softmax(x, axis=-1)>,\n",
       "  <function keras.activations.sigmoid(x)>],\n",
       " 'nb_classes': 10}"
      ]
     },
     "execution_count": 56,
     "metadata": {},
     "output_type": "execute_result"
    }
   ],
   "source": [
    "Param"
   ]
  },
  {
   "cell_type": "code",
   "execution_count": 60,
   "metadata": {},
   "outputs": [
    {
     "data": {
      "text/plain": [
       "<keras.optimizers.SGD at 0x7f13212d3668>"
      ]
     },
     "execution_count": 60,
     "metadata": {},
     "output_type": "execute_result"
    }
   ],
   "source": [
    "Param['optimizer'][3]"
   ]
  },
  {
   "cell_type": "code",
   "execution_count": null,
   "metadata": {},
   "outputs": [],
   "source": []
  }
 ],
 "metadata": {
  "kernelspec": {
   "display_name": "Python (envPython36)",
   "language": "python",
   "name": "envpython36"
  },
  "language_info": {
   "codemirror_mode": {
    "name": "ipython",
    "version": 3
   },
   "file_extension": ".py",
   "mimetype": "text/x-python",
   "name": "python",
   "nbconvert_exporter": "python",
   "pygments_lexer": "ipython3",
   "version": "3.6.8"
  }
 },
 "nbformat": 4,
 "nbformat_minor": 2
}
