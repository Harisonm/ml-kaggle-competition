{
 "cells": [
  {
   "cell_type": "code",
   "execution_count": 1,
   "metadata": {},
   "outputs": [
    {
     "name": "stderr",
     "output_type": "stream",
     "text": [
      "Using TensorFlow backend.\n"
     ]
    }
   ],
   "source": [
    "from tensorflow.python.keras import Sequential, Input, Model\n",
    "from tensorflow.python.keras.activations import relu, softmax\n",
    "from tensorflow.python.keras.callbacks import TensorBoard\n",
    "from tensorflow.python.keras.datasets import mnist\n",
    "from tensorflow.python.keras.layers import Dense, Add\n",
    "from tensorflow.python.keras.losses import categorical_crossentropy, binary_crossentropy\n",
    "from tensorflow.python.keras.metrics import categorical_accuracy, binary_accuracy\n",
    "from tensorflow.python.keras.optimizers import adam\n",
    "from tensorflow.python.keras.utils import to_categorical\n",
    "from tensorflow.python.keras.utils import np_utils\n",
    "from tensorflow.python.keras.datasets import cifar10\n",
    "import numpy as np\n",
    "import keras.backend as K\n",
    "\n",
    "def mean_pred(y_true, y_pred):\n",
    "    return K.mean(y_pred)"
   ]
  },
  {
   "cell_type": "code",
   "execution_count": null,
   "metadata": {},
   "outputs": [],
   "source": []
  },
  {
   "cell_type": "code",
   "execution_count": 2,
   "metadata": {},
   "outputs": [
    {
     "ename": "NameError",
     "evalue": "name 'network_conf' is not defined",
     "output_type": "error",
     "traceback": [
      "\u001b[0;31m---------------------------------------------------------------------------\u001b[0m",
      "\u001b[0;31mNameError\u001b[0m                                 Traceback (most recent call last)",
      "\u001b[0;32m<ipython-input-2-71a69f78702a>\u001b[0m in \u001b[0;36m<module>\u001b[0;34m\u001b[0m\n\u001b[1;32m      1\u001b[0m \u001b[0;31m# self.__network_archi = {}\u001b[0m\u001b[0;34m\u001b[0m\u001b[0;34m\u001b[0m\u001b[0;34m\u001b[0m\u001b[0m\n\u001b[1;32m      2\u001b[0m \u001b[0;31m# self.__network_conf ={}\u001b[0m\u001b[0;34m\u001b[0m\u001b[0;34m\u001b[0m\u001b[0;34m\u001b[0m\u001b[0m\n\u001b[0;32m----> 3\u001b[0;31m \u001b[0mnetwork_conf\u001b[0m\u001b[0;34m[\u001b[0m\u001b[0;34m'hidden_layer'\u001b[0m\u001b[0;34m]\u001b[0m\u001b[0;34m[\u001b[0m\u001b[0;34m'nbr_hidden_layer'\u001b[0m\u001b[0;34m]\u001b[0m\u001b[0;34m\u001b[0m\u001b[0;34m\u001b[0m\u001b[0m\n\u001b[0m",
      "\u001b[0;31mNameError\u001b[0m: name 'network_conf' is not defined"
     ]
    }
   ],
   "source": [
    "# self.__network_archi = {}\n",
    "# self.__network_conf ={} \n",
    "network_conf['hidden_layer']['nbr_hidden_layer']"
   ]
  },
  {
   "cell_type": "code",
   "execution_count": null,
   "metadata": {},
   "outputs": [],
   "source": [
    "network_archi"
   ]
  },
  {
   "cell_type": "code",
   "execution_count": 6,
   "metadata": {},
   "outputs": [],
   "source": [
    "# input_dim: int, hidden_dim: int, output_dim:int --> param[]\n",
    "\n",
    "def network_builder(network_conf, network_archi):\n",
    "    \n",
    "    print(\"len\",len(network_conf))\n",
    "    \n",
    "    while len(network_conf) > 0:\n",
    "        \n",
    "        # Premiere couche\n",
    "        if 'input_layer' in network_conf:\n",
    "            \n",
    "            # Add first layer\n",
    "            input_layer = Input(shape=(network_conf['input_layer']['input_dim'],))\n",
    "            \n",
    "            # Add first hidden Layer\n",
    "            hidden1 = Dense(network_conf['hidden_layer']['hidden_dim'],\n",
    "                           activation=network_conf['hidden_layer']['activation'])(input_layer)\n",
    "            \n",
    "            hidden2 = Dense(network_conf['hidden_layer']['hidden_dim'],\n",
    "                            activation=network_conf['hidden_layer']['activation'])(hidden1)\n",
    "            \n",
    "            res = Add()([hidden1, hidden2])\n",
    "            \n",
    "            #store data in list\n",
    "            network_archi.append(input_layer)\n",
    "            network_archi.append(hidden1)\n",
    "            network_archi.append(hidden2)\n",
    "            network_archi.append(res)\n",
    "            \n",
    "            #### A VIRER\n",
    "            print('\\n'.join(map(str, network_archi))) \n",
    "            \n",
    "            # Delete pills of stack\n",
    "            network_conf.pop('input_layer')\n",
    "            network_builder(network_conf, network_archi)\n",
    "            \n",
    "        # Couche caché\n",
    "        elif len(network_conf) > 1 and network_conf['hidden_layer']['nbr_hidden_layer'] > 0:\n",
    "            hidden = Dense(network_conf['hidden_layer']['hidden_dim'], \n",
    "                           activation=network_conf['hidden_layer']['activation'])(network_archi[-1])\n",
    "            \n",
    "            #### A VIRER\n",
    "            print('AFFICHAGE',network_archi[-2])\n",
    "            res = Add()([network_archi[-2], network_archi[-1]])\n",
    "            \n",
    "            network_archi.append(hidden)\n",
    "            network_archi.append(res)\n",
    "            \n",
    "            #### A VIRER\n",
    "            print('\\n'.join(map(str, network_archi)))\n",
    "            \n",
    "            # decrement nbr_hidden_layer\n",
    "            network_conf['hidden_layer']['nbr_hidden_layer'] -= 1\n",
    "            \n",
    "            if(network_conf['hidden_layer']['nbr_hidden_layer'] == 0):\n",
    "                # Derniere couche\n",
    "                network_conf.pop('hidden_layer')\n",
    "            \n",
    "            network_builder(network_conf, network_archi)\n",
    "        \n",
    "        elif len(network_conf) == 1:\n",
    "            output_layer = Dense(network_conf['output_layer']['output_dim'],\n",
    "                                 activation=network_conf['output_layer']['activation'])(network_archi[-1])\n",
    "            # print de test\n",
    "            network_archi.append(output_layer)\n",
    "            \n",
    "            #### A VIRER\n",
    "            print('\\n'.join(map(str, network_archi))) \n",
    "            \n",
    "            network_conf.pop('output_layer')\n",
    "            \n",
    "            network_archi.append(Model(network_archi[0], output_layer))"
   ]
  },
  {
   "cell_type": "code",
   "execution_count": 7,
   "metadata": {},
   "outputs": [],
   "source": [
    "#test = network_builder(network_conf, network_archi)"
   ]
  },
  {
   "cell_type": "code",
   "execution_count": 8,
   "metadata": {},
   "outputs": [],
   "source": [
    "#test"
   ]
  },
  {
   "cell_type": "code",
   "execution_count": 9,
   "metadata": {},
   "outputs": [
    {
     "name": "stdout",
     "output_type": "stream",
     "text": [
      "len 3\n",
      "Tensor(\"input_1:0\", shape=(?, 3072), dtype=float32)\n",
      "Tensor(\"dense/Relu:0\", shape=(?, 128), dtype=float32)\n",
      "Tensor(\"dense_1/Relu:0\", shape=(?, 128), dtype=float32)\n",
      "Tensor(\"add/add:0\", shape=(?, 128), dtype=float32)\n",
      "len 2\n",
      "AFFICHAGE Tensor(\"dense_1/Relu:0\", shape=(?, 128), dtype=float32)\n",
      "Tensor(\"input_1:0\", shape=(?, 3072), dtype=float32)\n",
      "Tensor(\"dense/Relu:0\", shape=(?, 128), dtype=float32)\n",
      "Tensor(\"dense_1/Relu:0\", shape=(?, 128), dtype=float32)\n",
      "Tensor(\"add/add:0\", shape=(?, 128), dtype=float32)\n",
      "Tensor(\"dense_2/Relu:0\", shape=(?, 128), dtype=float32)\n",
      "Tensor(\"add_1/add:0\", shape=(?, 128), dtype=float32)\n",
      "len 2\n",
      "AFFICHAGE Tensor(\"dense_2/Relu:0\", shape=(?, 128), dtype=float32)\n",
      "Tensor(\"input_1:0\", shape=(?, 3072), dtype=float32)\n",
      "Tensor(\"dense/Relu:0\", shape=(?, 128), dtype=float32)\n",
      "Tensor(\"dense_1/Relu:0\", shape=(?, 128), dtype=float32)\n",
      "Tensor(\"add/add:0\", shape=(?, 128), dtype=float32)\n",
      "Tensor(\"dense_2/Relu:0\", shape=(?, 128), dtype=float32)\n",
      "Tensor(\"add_1/add:0\", shape=(?, 128), dtype=float32)\n",
      "Tensor(\"dense_3/Relu:0\", shape=(?, 128), dtype=float32)\n",
      "Tensor(\"add_2/add:0\", shape=(?, 128), dtype=float32)\n",
      "len 2\n",
      "AFFICHAGE Tensor(\"dense_3/Relu:0\", shape=(?, 128), dtype=float32)\n",
      "Tensor(\"input_1:0\", shape=(?, 3072), dtype=float32)\n",
      "Tensor(\"dense/Relu:0\", shape=(?, 128), dtype=float32)\n",
      "Tensor(\"dense_1/Relu:0\", shape=(?, 128), dtype=float32)\n",
      "Tensor(\"add/add:0\", shape=(?, 128), dtype=float32)\n",
      "Tensor(\"dense_2/Relu:0\", shape=(?, 128), dtype=float32)\n",
      "Tensor(\"add_1/add:0\", shape=(?, 128), dtype=float32)\n",
      "Tensor(\"dense_3/Relu:0\", shape=(?, 128), dtype=float32)\n",
      "Tensor(\"add_2/add:0\", shape=(?, 128), dtype=float32)\n",
      "Tensor(\"dense_4/Relu:0\", shape=(?, 128), dtype=float32)\n",
      "Tensor(\"add_3/add:0\", shape=(?, 128), dtype=float32)\n",
      "len 2\n",
      "AFFICHAGE Tensor(\"dense_4/Relu:0\", shape=(?, 128), dtype=float32)\n",
      "Tensor(\"input_1:0\", shape=(?, 3072), dtype=float32)\n",
      "Tensor(\"dense/Relu:0\", shape=(?, 128), dtype=float32)\n",
      "Tensor(\"dense_1/Relu:0\", shape=(?, 128), dtype=float32)\n",
      "Tensor(\"add/add:0\", shape=(?, 128), dtype=float32)\n",
      "Tensor(\"dense_2/Relu:0\", shape=(?, 128), dtype=float32)\n",
      "Tensor(\"add_1/add:0\", shape=(?, 128), dtype=float32)\n",
      "Tensor(\"dense_3/Relu:0\", shape=(?, 128), dtype=float32)\n",
      "Tensor(\"add_2/add:0\", shape=(?, 128), dtype=float32)\n",
      "Tensor(\"dense_4/Relu:0\", shape=(?, 128), dtype=float32)\n",
      "Tensor(\"add_3/add:0\", shape=(?, 128), dtype=float32)\n",
      "Tensor(\"dense_5/Relu:0\", shape=(?, 128), dtype=float32)\n",
      "Tensor(\"add_4/add:0\", shape=(?, 128), dtype=float32)\n",
      "len 1\n",
      "Tensor(\"input_1:0\", shape=(?, 3072), dtype=float32)\n",
      "Tensor(\"dense/Relu:0\", shape=(?, 128), dtype=float32)\n",
      "Tensor(\"dense_1/Relu:0\", shape=(?, 128), dtype=float32)\n",
      "Tensor(\"add/add:0\", shape=(?, 128), dtype=float32)\n",
      "Tensor(\"dense_2/Relu:0\", shape=(?, 128), dtype=float32)\n",
      "Tensor(\"add_1/add:0\", shape=(?, 128), dtype=float32)\n",
      "Tensor(\"dense_3/Relu:0\", shape=(?, 128), dtype=float32)\n",
      "Tensor(\"add_2/add:0\", shape=(?, 128), dtype=float32)\n",
      "Tensor(\"dense_4/Relu:0\", shape=(?, 128), dtype=float32)\n",
      "Tensor(\"add_3/add:0\", shape=(?, 128), dtype=float32)\n",
      "Tensor(\"dense_5/Relu:0\", shape=(?, 128), dtype=float32)\n",
      "Tensor(\"add_4/add:0\", shape=(?, 128), dtype=float32)\n",
      "Tensor(\"dense_6/Softmax:0\", shape=(?, 10), dtype=float32)\n",
      "Train on 50000 samples, validate on 10000 samples\n",
      "Epoch 1/100\n",
      "50000/50000 [==============================] - 3s 52us/step - loss: 2.2193 - sparse_categorical_accuracy: 0.0987 - val_loss: 1.8613 - val_sparse_categorical_accuracy: 0.0427\n",
      "Epoch 2/100\n",
      "50000/50000 [==============================] - 2s 46us/step - loss: 1.8122 - sparse_categorical_accuracy: 0.0993 - val_loss: 1.7636 - val_sparse_categorical_accuracy: 0.1390\n",
      "Epoch 3/100\n",
      "49664/50000 [============================>.] - ETA: 0s - loss: 1.7178 - sparse_categorical_accuracy: 0.1039"
     ]
    },
    {
     "ename": "KeyboardInterrupt",
     "evalue": "",
     "output_type": "error",
     "traceback": [
      "\u001b[0;31m---------------------------------------------------------------------------\u001b[0m",
      "\u001b[0;31mKeyboardInterrupt\u001b[0m                         Traceback (most recent call last)",
      "\u001b[0;32m<ipython-input-9-c6c9d3e725ec>\u001b[0m in \u001b[0;36m<module>\u001b[0;34m\u001b[0m\n\u001b[1;32m     51\u001b[0m \u001b[0;34m\u001b[0m\u001b[0m\n\u001b[1;32m     52\u001b[0m     model.fit(X_train, Y_train, validation_data=(X_test, Y_test),\n\u001b[0;32m---> 53\u001b[0;31m               epochs=nb_epoch, batch_size=512, callbacks=[tb_callback])\n\u001b[0m",
      "\u001b[0;32m/opt/conda/envs/envPython36/lib/python3.6/site-packages/tensorflow/python/keras/engine/training.py\u001b[0m in \u001b[0;36mfit\u001b[0;34m(self, x, y, batch_size, epochs, verbose, callbacks, validation_split, validation_data, shuffle, class_weight, sample_weight, initial_epoch, steps_per_epoch, validation_steps, max_queue_size, workers, use_multiprocessing, **kwargs)\u001b[0m\n\u001b[1;32m   1637\u001b[0m           \u001b[0minitial_epoch\u001b[0m\u001b[0;34m=\u001b[0m\u001b[0minitial_epoch\u001b[0m\u001b[0;34m,\u001b[0m\u001b[0;34m\u001b[0m\u001b[0;34m\u001b[0m\u001b[0m\n\u001b[1;32m   1638\u001b[0m           \u001b[0msteps_per_epoch\u001b[0m\u001b[0;34m=\u001b[0m\u001b[0msteps_per_epoch\u001b[0m\u001b[0;34m,\u001b[0m\u001b[0;34m\u001b[0m\u001b[0;34m\u001b[0m\u001b[0m\n\u001b[0;32m-> 1639\u001b[0;31m           validation_steps=validation_steps)\n\u001b[0m\u001b[1;32m   1640\u001b[0m \u001b[0;34m\u001b[0m\u001b[0m\n\u001b[1;32m   1641\u001b[0m   def evaluate(self,\n",
      "\u001b[0;32m/opt/conda/envs/envPython36/lib/python3.6/site-packages/tensorflow/python/keras/engine/training_arrays.py\u001b[0m in \u001b[0;36mfit_loop\u001b[0;34m(model, inputs, targets, sample_weights, batch_size, epochs, verbose, callbacks, val_inputs, val_targets, val_sample_weights, shuffle, initial_epoch, steps_per_epoch, validation_steps)\u001b[0m\n\u001b[1;32m    231\u001b[0m                 \u001b[0msample_weights\u001b[0m\u001b[0;34m=\u001b[0m\u001b[0mval_sample_weights\u001b[0m\u001b[0;34m,\u001b[0m\u001b[0;34m\u001b[0m\u001b[0;34m\u001b[0m\u001b[0m\n\u001b[1;32m    232\u001b[0m                 \u001b[0mbatch_size\u001b[0m\u001b[0;34m=\u001b[0m\u001b[0mbatch_size\u001b[0m\u001b[0;34m,\u001b[0m\u001b[0;34m\u001b[0m\u001b[0;34m\u001b[0m\u001b[0m\n\u001b[0;32m--> 233\u001b[0;31m                 verbose=0)\n\u001b[0m\u001b[1;32m    234\u001b[0m             \u001b[0;32mif\u001b[0m \u001b[0;32mnot\u001b[0m \u001b[0misinstance\u001b[0m\u001b[0;34m(\u001b[0m\u001b[0mval_outs\u001b[0m\u001b[0;34m,\u001b[0m \u001b[0mlist\u001b[0m\u001b[0;34m)\u001b[0m\u001b[0;34m:\u001b[0m\u001b[0;34m\u001b[0m\u001b[0;34m\u001b[0m\u001b[0m\n\u001b[1;32m    235\u001b[0m               \u001b[0mval_outs\u001b[0m \u001b[0;34m=\u001b[0m \u001b[0;34m[\u001b[0m\u001b[0mval_outs\u001b[0m\u001b[0;34m]\u001b[0m\u001b[0;34m\u001b[0m\u001b[0;34m\u001b[0m\u001b[0m\n",
      "\u001b[0;32m/opt/conda/envs/envPython36/lib/python3.6/site-packages/tensorflow/python/keras/engine/training_arrays.py\u001b[0m in \u001b[0;36mtest_loop\u001b[0;34m(model, inputs, targets, sample_weights, batch_size, verbose, steps)\u001b[0m\n\u001b[1;32m    437\u001b[0m         \u001b[0mins_batch\u001b[0m\u001b[0;34m[\u001b[0m\u001b[0mi\u001b[0m\u001b[0;34m]\u001b[0m \u001b[0;34m=\u001b[0m \u001b[0mins_batch\u001b[0m\u001b[0;34m[\u001b[0m\u001b[0mi\u001b[0m\u001b[0;34m]\u001b[0m\u001b[0;34m.\u001b[0m\u001b[0mtoarray\u001b[0m\u001b[0;34m(\u001b[0m\u001b[0;34m)\u001b[0m\u001b[0;34m\u001b[0m\u001b[0;34m\u001b[0m\u001b[0m\n\u001b[1;32m    438\u001b[0m \u001b[0;34m\u001b[0m\u001b[0m\n\u001b[0;32m--> 439\u001b[0;31m       \u001b[0mbatch_outs\u001b[0m \u001b[0;34m=\u001b[0m \u001b[0mf\u001b[0m\u001b[0;34m(\u001b[0m\u001b[0mins_batch\u001b[0m\u001b[0;34m)\u001b[0m\u001b[0;34m\u001b[0m\u001b[0;34m\u001b[0m\u001b[0m\n\u001b[0m\u001b[1;32m    440\u001b[0m \u001b[0;34m\u001b[0m\u001b[0m\n\u001b[1;32m    441\u001b[0m       \u001b[0;32mif\u001b[0m \u001b[0misinstance\u001b[0m\u001b[0;34m(\u001b[0m\u001b[0mbatch_outs\u001b[0m\u001b[0;34m,\u001b[0m \u001b[0mlist\u001b[0m\u001b[0;34m)\u001b[0m\u001b[0;34m:\u001b[0m\u001b[0;34m\u001b[0m\u001b[0;34m\u001b[0m\u001b[0m\n",
      "\u001b[0;32m/opt/conda/envs/envPython36/lib/python3.6/site-packages/tensorflow/python/keras/backend.py\u001b[0m in \u001b[0;36m__call__\u001b[0;34m(self, inputs)\u001b[0m\n\u001b[1;32m   2984\u001b[0m \u001b[0;34m\u001b[0m\u001b[0m\n\u001b[1;32m   2985\u001b[0m     fetched = self._callable_fn(*array_vals,\n\u001b[0;32m-> 2986\u001b[0;31m                                 run_metadata=self.run_metadata)\n\u001b[0m\u001b[1;32m   2987\u001b[0m     \u001b[0mself\u001b[0m\u001b[0;34m.\u001b[0m\u001b[0m_call_fetch_callbacks\u001b[0m\u001b[0;34m(\u001b[0m\u001b[0mfetched\u001b[0m\u001b[0;34m[\u001b[0m\u001b[0;34m-\u001b[0m\u001b[0mlen\u001b[0m\u001b[0;34m(\u001b[0m\u001b[0mself\u001b[0m\u001b[0;34m.\u001b[0m\u001b[0m_fetches\u001b[0m\u001b[0;34m)\u001b[0m\u001b[0;34m:\u001b[0m\u001b[0;34m]\u001b[0m\u001b[0;34m)\u001b[0m\u001b[0;34m\u001b[0m\u001b[0;34m\u001b[0m\u001b[0m\n\u001b[1;32m   2988\u001b[0m     \u001b[0;32mreturn\u001b[0m \u001b[0mfetched\u001b[0m\u001b[0;34m[\u001b[0m\u001b[0;34m:\u001b[0m\u001b[0mlen\u001b[0m\u001b[0;34m(\u001b[0m\u001b[0mself\u001b[0m\u001b[0;34m.\u001b[0m\u001b[0moutputs\u001b[0m\u001b[0;34m)\u001b[0m\u001b[0;34m]\u001b[0m\u001b[0;34m\u001b[0m\u001b[0;34m\u001b[0m\u001b[0m\n",
      "\u001b[0;32m/opt/conda/envs/envPython36/lib/python3.6/site-packages/tensorflow/python/client/session.py\u001b[0m in \u001b[0;36m__call__\u001b[0;34m(self, *args, **kwargs)\u001b[0m\n\u001b[1;32m   1437\u001b[0m           ret = tf_session.TF_SessionRunCallable(\n\u001b[1;32m   1438\u001b[0m               \u001b[0mself\u001b[0m\u001b[0;34m.\u001b[0m\u001b[0m_session\u001b[0m\u001b[0;34m.\u001b[0m\u001b[0m_session\u001b[0m\u001b[0;34m,\u001b[0m \u001b[0mself\u001b[0m\u001b[0;34m.\u001b[0m\u001b[0m_handle\u001b[0m\u001b[0;34m,\u001b[0m \u001b[0margs\u001b[0m\u001b[0;34m,\u001b[0m \u001b[0mstatus\u001b[0m\u001b[0;34m,\u001b[0m\u001b[0;34m\u001b[0m\u001b[0;34m\u001b[0m\u001b[0m\n\u001b[0;32m-> 1439\u001b[0;31m               run_metadata_ptr)\n\u001b[0m\u001b[1;32m   1440\u001b[0m         \u001b[0;32mif\u001b[0m \u001b[0mrun_metadata\u001b[0m\u001b[0;34m:\u001b[0m\u001b[0;34m\u001b[0m\u001b[0;34m\u001b[0m\u001b[0m\n\u001b[1;32m   1441\u001b[0m           \u001b[0mproto_data\u001b[0m \u001b[0;34m=\u001b[0m \u001b[0mtf_session\u001b[0m\u001b[0;34m.\u001b[0m\u001b[0mTF_GetBuffer\u001b[0m\u001b[0;34m(\u001b[0m\u001b[0mrun_metadata_ptr\u001b[0m\u001b[0;34m)\u001b[0m\u001b[0;34m\u001b[0m\u001b[0;34m\u001b[0m\u001b[0m\n",
      "\u001b[0;31mKeyboardInterrupt\u001b[0m: "
     ]
    }
   ],
   "source": [
    "if __name__ == \"__main__\":\n",
    "    # Preprocessing\n",
    "    \n",
    "    network_conf = {}\n",
    "\n",
    "    # network_conf = Param\n",
    "    network_conf.update({'input_layer':{\n",
    "                                         'input_dim': 3072}\n",
    "                         })\n",
    "\n",
    "    network_conf.update({'hidden_layer': {'hidden_dim':128,\n",
    "                                         'activation':'relu',\n",
    "                                          'nbr_hidden_layer': 4\n",
    "                                        }\n",
    "                         })\n",
    "\n",
    "    network_conf.update({'output_layer': {'output_dim':10,\n",
    "                                         'activation':'softmax'}\n",
    "                          })\n",
    "\n",
    "    network_archi = []\n",
    "\n",
    "    (X_train, Y_train), (X_test, Y_test) = cifar10.load_data()\n",
    "\n",
    "    X_train = X_train.reshape(50000, 32 * 32 * 3)\n",
    "    X_test = X_test.reshape(10000, 32 * 32 * 3)\n",
    "\n",
    "    X_train = X_train.astype('float32')\n",
    "    X_test = X_test.astype('float32')\n",
    "    X_train /= 255.0\n",
    "    X_test /= 255.0\n",
    "    \n",
    "    #Param\n",
    "    nb_epoch = 100\n",
    "    batch_size = 2048\n",
    "    nb_classes = 10\n",
    "    \n",
    "    \n",
    "    \n",
    "    Y_train = np_utils.to_categorical(Y_train, nb_classes)\n",
    "    Y_test = np_utils.to_categorical(Y_test, nb_classes)\n",
    "    network_builder(network_conf, network_archi)\n",
    "    #model = network_builder(network_conf, network_archi)\n",
    "    model = network_archi[-1]\n",
    "    \n",
    "    model.compile(optimizer=adam(),\n",
    "                  loss=categorical_crossentropy,\n",
    "                  metrics=['sparse_categorical_accuracy'])\n",
    "\n",
    "    tb_callback = TensorBoard(log_dir=\"res_logs/sparse_categorical_accuracy\")\n",
    "\n",
    "    model.fit(X_train, Y_train, validation_data=(X_test, Y_test),\n",
    "              epochs=nb_epoch, batch_size=512, callbacks=[tb_callback])"
   ]
  },
  {
   "cell_type": "code",
   "execution_count": null,
   "metadata": {},
   "outputs": [],
   "source": [
    "if 'input_layer' in test : \n",
    "    print('ok')"
   ]
  },
  {
   "cell_type": "code",
   "execution_count": null,
   "metadata": {},
   "outputs": [],
   "source": [
    "network_conf['input_layer']['input_dim']"
   ]
  },
  {
   "cell_type": "code",
   "execution_count": null,
   "metadata": {},
   "outputs": [],
   "source": [
    "network_conf.pop('input_layer')"
   ]
  },
  {
   "cell_type": "code",
   "execution_count": null,
   "metadata": {},
   "outputs": [],
   "source": [
    "network_conf"
   ]
  },
  {
   "cell_type": "code",
   "execution_count": null,
   "metadata": {},
   "outputs": [],
   "source": [
    "a = 2\n",
    "b = 3\n",
    "c = 4\n",
    "t1 = []\n",
    "t1.append(a)\n",
    "t1.append(b)\n",
    "t1.append(c)"
   ]
  },
  {
   "cell_type": "code",
   "execution_count": null,
   "metadata": {},
   "outputs": [],
   "source": [
    "print('\\n'.join(map(str, t1))) "
   ]
  },
  {
   "cell_type": "code",
   "execution_count": null,
   "metadata": {},
   "outputs": [],
   "source": [
    "# Ordre decroissant\n",
    "t1[-1]"
   ]
  },
  {
   "cell_type": "code",
   "execution_count": null,
   "metadata": {},
   "outputs": [],
   "source": [
    "# Derniere element\n",
    "t1[-1]"
   ]
  },
  {
   "cell_type": "code",
   "execution_count": null,
   "metadata": {},
   "outputs": [],
   "source": [
    "'toto' + str(a)"
   ]
  },
  {
   "cell_type": "code",
   "execution_count": null,
   "metadata": {},
   "outputs": [],
   "source": []
  },
  {
   "cell_type": "code",
   "execution_count": null,
   "metadata": {},
   "outputs": [],
   "source": []
  },
  {
   "cell_type": "code",
   "execution_count": null,
   "metadata": {},
   "outputs": [],
   "source": [
    "def create_dense_res_net(input_dim: int, hidden_dim: int, output_dim:int):\n",
    "    input_layer = Input(shape=(input_dim,))  # API FONCTIONELLE\n",
    "    hidden1 = Dense(hidden_dim, activation=relu)(input_layer)\n",
    "    hidden2 = Dense(hidden_dim, activation=relu)(hidden1)\n",
    "    res1_2 = Add()([hidden1, hidden2])\n",
    "    hidden3 = Dense(hidden_dim, activation=relu)(res1_2)\n",
    "    res2_3 = Add()([hidden2, hidden3])\n",
    "    hidden4 = Dense(hidden_dim, activation=relu)(res2_3)\n",
    "    res3_4 = Add()([hidden3, hidden4])\n",
    "    hidden5 = Dense(hidden_dim, activation=relu)(res3_4)\n",
    "    res4_5 = Add()([hidden4, hidden5])\n",
    "    hidden6 = Dense(hidden_dim, activation=relu)(res4_5)\n",
    "    res5_6 = Add()([hidden5, hidden6])\n",
    "    hidden7 = Dense(hidden_dim, activation=relu)(res5_6)\n",
    "    res6_7 = Add()([hidden6, hidden7])\n",
    "    output_layer = Dense(output_dim, activation=softmax)(res6_7)\n",
    "    model_functional = Model(input_layer, output_layer)\n",
    "    print ('TESTTTT',model_functional)\n",
    "    return model_functional"
   ]
  },
  {
   "cell_type": "code",
   "execution_count": null,
   "metadata": {},
   "outputs": [],
   "source": [
    "def create_dense_highway_net(input_dim: int, hidden_dim: int, output_dim:int):\n",
    "    \n",
    "    input_layer = Input(shape=(input_dim,))  # API FONCTIONELLE\n",
    "    hidden_tab = []\n",
    "    \n",
    "    #hidden_tab.append({0: Dense(hidden_dim, activation=relu)(input_layer)})\n",
    "    #hidden2 = \n",
    "    \n",
    "    \n",
    "    output_layer = Dense(output_dim, activation=softmax)(res2_3)\n",
    "    model_functional = Model(input_layer, output_layer)\n",
    "    return model_functional"
   ]
  },
  {
   "cell_type": "code",
   "execution_count": null,
   "metadata": {},
   "outputs": [],
   "source": []
  }
 ],
 "metadata": {
  "kernelspec": {
   "display_name": "Python (envPython36)",
   "language": "python",
   "name": "envpython36"
  },
  "language_info": {
   "codemirror_mode": {
    "name": "ipython",
    "version": 3
   },
   "file_extension": ".py",
   "mimetype": "text/x-python",
   "name": "python",
   "nbconvert_exporter": "python",
   "pygments_lexer": "ipython3",
   "version": "3.6.8"
  }
 },
 "nbformat": 4,
 "nbformat_minor": 2
}
