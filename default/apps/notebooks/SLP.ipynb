{
 "cells": [
  {
   "cell_type": "code",
   "execution_count": 1,
   "metadata": {},
   "outputs": [
    {
     "name": "stderr",
     "output_type": "stream",
     "text": [
      "Using TensorFlow backend.\n"
     ]
    }
   ],
   "source": [
    "# CNN model for CIFAR-10\n",
    "import numpy\n",
    "from keras.optimizers import SGD\n",
    "from keras.datasets import cifar10\n",
    "from keras.losses import mse, logcosh, binary_crossentropy, categorical_crossentropy\n",
    "from keras.activations import relu, elu, softmax, sigmoid, linear\n",
    "from keras.constraints import maxnorm\n",
    "from keras.datasets import cifar10\n",
    "from keras.models import Sequential\n",
    "from keras.layers import Dense\n",
    "from keras.layers import Dropout\n",
    "from keras.layers import LSTM, Reshape\n",
    "from keras.layers import TimeDistributed, Flatten\n",
    "from keras.layers.convolutional import Conv2D\n",
    "from keras.layers.convolutional import MaxPooling2D\n",
    "from keras.constraints import maxnorm\n",
    "from keras.optimizers import SGD\n",
    "from keras.utils import np_utils\n",
    "from keras import backend as K\n",
    "from keras.callbacks import TensorBoard\n",
    "import random\n",
    "import talos"
   ]
  },
  {
   "cell_type": "code",
   "execution_count": 2,
   "metadata": {},
   "outputs": [],
   "source": [
    "K.set_image_dim_ordering('tf')"
   ]
  },
  {
   "cell_type": "markdown",
   "metadata": {},
   "source": [
    "# I. Parametrage des hyper-paramètres"
   ]
  },
  {
   "cell_type": "code",
   "execution_count": 3,
   "metadata": {},
   "outputs": [],
   "source": [
    "# fix random seed for reproducibility\n",
    "seed = 7\n",
    "numpy.random.seed(seed)"
   ]
  },
  {
   "cell_type": "code",
   "execution_count": 4,
   "metadata": {},
   "outputs": [],
   "source": [
    "lr = numpy.random.random() * (0.1 - 0.0001) + 0.0001\n",
    "momentum = numpy.random.random() * (0.1 - 0.0001) + 0.0001\n",
    "epochs = 1\n",
    "decay = lr / epochs"
   ]
  },
  {
   "cell_type": "code",
   "execution_count": 5,
   "metadata": {},
   "outputs": [
    {
     "name": "stdout",
     "output_type": "stream",
     "text": [
      "WARNING:tensorflow:From /opt/conda/envs/envPython37/lib/python3.7/site-packages/tensorflow/python/framework/op_def_library.py:263: colocate_with (from tensorflow.python.framework.ops) is deprecated and will be removed in a future version.\n",
      "Instructions for updating:\n",
      "Colocations handled automatically by placer.\n"
     ]
    }
   ],
   "source": [
    "Param = {'input_shape': 3072,\n",
    "             'input_shape_rnn': (32, 96),\n",
    "             'input_shape_cnn': (32, 32, 3),\n",
    "             'lr': lr,\n",
    "             'hidden_dim': 128,\n",
    "             'units': 512,\n",
    "             'unitsSlp': 10,\n",
    "             'last_units': 10,\n",
    "             'first_neuron': [4, 8, 16, 32, 64],\n",
    "             'hidden_layers': [2, 4, 6, 8, 9, 10, 20, 25, 30],\n",
    "             'kernel_constraint': maxnorm(3),\n",
    "             'batch_size': (64, 128, 512, 1024, 2048),\n",
    "             'epochs': epochs,\n",
    "             'dropout': (0, 0.5, 1),\n",
    "             'padding': 'same',\n",
    "             'metrics': ['accuracy'],\n",
    "             'weight_regulizer': [None],\n",
    "             'emb_output_dims': [None],\n",
    "             'shape': ['brick', 'long_funnel'],\n",
    "             'optimizer': ['adam', 'Nadam', 'RMSprop', SGD(lr=lr, momentum=momentum, decay=decay, nesterov=False)],\n",
    "             'losses': [mse, logcosh, binary_crossentropy, categorical_crossentropy],\n",
    "             'activation': [relu, elu, linear],\n",
    "             'last_activation': [softmax, sigmoid],\n",
    "             'nb_classes': 10}"
   ]
  },
  {
   "cell_type": "code",
   "execution_count": 6,
   "metadata": {},
   "outputs": [],
   "source": [
    "def _random_param(param):\n",
    "    \"\"\"\n",
    "    _random_param : do random to param values\n",
    "    :param param:\n",
    "    :return:\n",
    "    \"\"\"\n",
    "    rand_param = {'input_shape': param['input_shape'],\n",
    "                  'input_shape_cnn': param['input_shape_cnn'],\n",
    "                  'input_shape_rnn': param['input_shape_rnn'],\n",
    "                  'lr': param['lr'],\n",
    "                  'hidden_dim': param['hidden_dim'],\n",
    "                  'units': param['units'],\n",
    "                  'unitsSlp': param['unitsSlp'],\n",
    "                  'padding': param['padding'],\n",
    "                  'last_units': param['last_units'],\n",
    "                  'first_neuron': random.choice(param['first_neuron']),\n",
    "                  'hidden_layers': random.choice(param['hidden_layers']),\n",
    "                  'kernel_constraint': param['kernel_constraint'],\n",
    "                  'batch_size': random.choice(param['batch_size']),\n",
    "                  'epochs': param['epochs'],\n",
    "                  'dropout': random.choice(param['dropout']),\n",
    "                  'metrics': param['metrics'],\n",
    "                  'weight_regulizer': param['weight_regulizer'],\n",
    "                  'emb_output_dims': ['emb_output_dims'],\n",
    "                  'shape': random.choice(param['shape']),\n",
    "                  'optimizer': random.choice(param['optimizer']),\n",
    "                  'losses': random.choice(param['losses']),\n",
    "                  'activation': random.choice(param['activation']),\n",
    "                  'last_activation': random.choice(param['last_activation']),\n",
    "                  'nb_classes': param['nb_classes']}\n",
    "    return rand_param"
   ]
  },
  {
   "cell_type": "markdown",
   "metadata": {},
   "source": [
    "# II. Prétraitement de la donnée"
   ]
  },
  {
   "cell_type": "code",
   "execution_count": 7,
   "metadata": {},
   "outputs": [],
   "source": [
    "def _preprocess_cifar10(param):\n",
    "    \"\"\"\n",
    "    :param dataset:\n",
    "    :return:\n",
    "    \"\"\"\n",
    "    (__X_train, __y_train), (__X_test, __y_test) = cifar10.load_data()\n",
    "    __X_train = __X_train.reshape(50000, 32 * 32 * 3)\n",
    "    __X_test = __X_test.reshape(10000, 32 * 32 * 3)\n",
    "\n",
    "    __X_train = __X_train.astype('float32')\n",
    "    __X_test = __X_test.astype('float32')\n",
    "    __X_train /= 255.0\n",
    "    __X_test /= 255.0\n",
    "\n",
    "    __y_train = np_utils.to_categorical(__y_train, param['nb_classes'])\n",
    "    __y_test = np_utils.to_categorical(__y_test, param['nb_classes'])\n",
    "    return (__X_train, __y_train), (__X_test, __y_test)"
   ]
  },
  {
   "cell_type": "markdown",
   "metadata": {},
   "source": [
    "## 1. Charge et prépare le dataset"
   ]
  },
  {
   "cell_type": "code",
   "execution_count": 8,
   "metadata": {},
   "outputs": [
    {
     "name": "stdout",
     "output_type": "stream",
     "text": [
      "Downloading data from https://www.cs.toronto.edu/~kriz/cifar-10-python.tar.gz\n",
      "170500096/170498071 [==============================] - 532s 3us/step\n"
     ]
    }
   ],
   "source": [
    "param = _random_param(Param)\n",
    "dataset = _preprocess_cifar10(param)"
   ]
  },
  {
   "cell_type": "code",
   "execution_count": 10,
   "metadata": {},
   "outputs": [
    {
     "data": {
      "text/plain": [
       "{'input_shape': 3072,\n",
       " 'input_shape_cnn': (32, 32, 3),\n",
       " 'input_shape_rnn': (32, 96),\n",
       " 'lr': 0.007723198108458322,\n",
       " 'hidden_dim': 128,\n",
       " 'units': 512,\n",
       " 'unitsSlp': 10,\n",
       " 'padding': 'same',\n",
       " 'last_units': 10,\n",
       " 'first_neuron': 16,\n",
       " 'hidden_layers': 9,\n",
       " 'kernel_constraint': <keras.constraints.MaxNorm at 0x7fd3ca3db470>,\n",
       " 'batch_size': 64,\n",
       " 'epochs': 1,\n",
       " 'dropout': 0.5,\n",
       " 'metrics': ['accuracy'],\n",
       " 'weight_regulizer': [None],\n",
       " 'emb_output_dims': ['emb_output_dims'],\n",
       " 'shape': 'long_funnel',\n",
       " 'optimizer': 'RMSprop',\n",
       " 'losses': <function keras.losses.binary_crossentropy(y_true, y_pred)>,\n",
       " 'activation': <function keras.activations.elu(x, alpha=1.0)>,\n",
       " 'last_activation': <function keras.activations.softmax(x, axis=-1)>,\n",
       " 'nb_classes': 10}"
      ]
     },
     "execution_count": 10,
     "metadata": {},
     "output_type": "execute_result"
    }
   ],
   "source": [
    "param"
   ]
  },
  {
   "cell_type": "code",
   "execution_count": 11,
   "metadata": {},
   "outputs": [],
   "source": [
    "# load data\n",
    "(X_train, y_train), (X_test, y_test) = dataset\n",
    "nb_classes = y_test.shape[1]"
   ]
  },
  {
   "cell_type": "markdown",
   "metadata": {},
   "source": [
    "# III. Gestion du modèle"
   ]
  },
  {
   "cell_type": "markdown",
   "metadata": {},
   "source": [
    "## 1. Declaration du modèle"
   ]
  },
  {
   "cell_type": "code",
   "execution_count": 13,
   "metadata": {},
   "outputs": [],
   "source": [
    "    def run_model(param):\n",
    "        '''\n",
    "        :return:\n",
    "        '''\n",
    "        (X_train, y_train), (X_test, y_test) = dataset\n",
    "        type_model = \"slp\"\n",
    "\n",
    "        model = Sequential()\n",
    "        model.add(Dense(param['unitsSlp'],\n",
    "                        input_shape=(param['input_shape'],),\n",
    "                        activation=param['activation']))\n",
    "\n",
    "        model.compile(loss=param['losses'],\n",
    "                      optimizer=param['optimizer'],\n",
    "                      metrics=param['metrics'])\n",
    "        model.summary()\n",
    "\n",
    "        tb_callback = self.__save_tensorboard(model, type_model)\n",
    "        # training\n",
    "        history = model.fit(X_train, y_train,\n",
    "                            batch_size=param['batch_size'],\n",
    "                            epochs=param['epochs'],\n",
    "                            verbose=1,\n",
    "                            validation_data=(X_test, y_test))\n",
    "\n",
    "        # Final evaluation of the model\n",
    "        score = model.evaluate(X_test, y_test, verbose=1)\n",
    "        \n",
    "        return history, model"
   ]
  },
  {
   "cell_type": "markdown",
   "metadata": {},
   "source": [
    "## 4. Entrainement le modèle"
   ]
  },
  {
   "cell_type": "code",
   "execution_count": 14,
   "metadata": {},
   "outputs": [
    {
     "ename": "ZeroDivisionError",
     "evalue": "float division by zero",
     "output_type": "error",
     "traceback": [
      "\u001b[0;31m\u001b[0m",
      "\u001b[0;31mZeroDivisionError\u001b[0mTraceback (most recent call last)",
      "\u001b[0;32m/opt/conda/envs/envPython37/lib/python3.7/site-packages/talos/parameters/ParamGrid.py\u001b[0m in \u001b[0;36m_param_range\u001b[0;34m(self, start, end, n)\u001b[0m\n\u001b[1;32m     89\u001b[0m         \u001b[0;32mtry\u001b[0m\u001b[0;34m:\u001b[0m\u001b[0;34m\u001b[0m\u001b[0;34m\u001b[0m\u001b[0m\n\u001b[0;32m---> 90\u001b[0;31m             \u001b[0mout\u001b[0m \u001b[0;34m=\u001b[0m \u001b[0marange\u001b[0m\u001b[0;34m(\u001b[0m\u001b[0mstart\u001b[0m\u001b[0;34m,\u001b[0m \u001b[0mend\u001b[0m\u001b[0;34m,\u001b[0m \u001b[0;34m(\u001b[0m\u001b[0mend\u001b[0m \u001b[0;34m-\u001b[0m \u001b[0mstart\u001b[0m\u001b[0;34m)\u001b[0m \u001b[0;34m/\u001b[0m \u001b[0mn\u001b[0m\u001b[0;34m,\u001b[0m \u001b[0mdtype\u001b[0m\u001b[0;34m=\u001b[0m\u001b[0mfloat\u001b[0m\u001b[0;34m)\u001b[0m\u001b[0;34m\u001b[0m\u001b[0;34m\u001b[0m\u001b[0m\n\u001b[0m\u001b[1;32m     91\u001b[0m         \u001b[0;31m# this is for python2\u001b[0m\u001b[0;34m\u001b[0m\u001b[0;34m\u001b[0m\u001b[0;34m\u001b[0m\u001b[0m\n",
      "\u001b[0;31mZeroDivisionError\u001b[0m: float division by zero",
      "\nDuring handling of the above exception, another exception occurred:\n",
      "\u001b[0;31mZeroDivisionError\u001b[0mTraceback (most recent call last)",
      "\u001b[0;32m<ipython-input-14-41621925d111>\u001b[0m in \u001b[0;36m<module>\u001b[0;34m\u001b[0m\n\u001b[1;32m      1\u001b[0m talos.Scan(X_test,y_test,\n\u001b[1;32m      2\u001b[0m            \u001b[0mmodel\u001b[0m\u001b[0;34m=\u001b[0m\u001b[0mrun_model\u001b[0m\u001b[0;34m,\u001b[0m\u001b[0;34m\u001b[0m\u001b[0;34m\u001b[0m\u001b[0m\n\u001b[0;32m----> 3\u001b[0;31m            params=param)\n\u001b[0m",
      "\u001b[0;32m/opt/conda/envs/envPython37/lib/python3.7/site-packages/talos/scan/Scan.py\u001b[0m in \u001b[0;36m__init__\u001b[0;34m(self, x, y, params, model, dataset_name, experiment_no, x_val, y_val, val_split, shuffle, round_limit, grid_downsample, random_method, seed, search_method, reduction_method, reduction_interval, reduction_window, reduction_threshold, reduction_metric, reduce_loss, last_epoch_value, clear_tf_session, disable_progress_bar, print_params, debug)\u001b[0m\n\u001b[1;32m    163\u001b[0m         \u001b[0;31m# input parameters section ends\u001b[0m\u001b[0;34m\u001b[0m\u001b[0;34m\u001b[0m\u001b[0;34m\u001b[0m\u001b[0m\n\u001b[1;32m    164\u001b[0m \u001b[0;34m\u001b[0m\u001b[0m\n\u001b[0;32m--> 165\u001b[0;31m         \u001b[0mself\u001b[0m\u001b[0;34m.\u001b[0m\u001b[0m_null\u001b[0m \u001b[0;34m=\u001b[0m \u001b[0mself\u001b[0m\u001b[0;34m.\u001b[0m\u001b[0mruntime\u001b[0m\u001b[0;34m(\u001b[0m\u001b[0;34m)\u001b[0m\u001b[0;34m\u001b[0m\u001b[0;34m\u001b[0m\u001b[0m\n\u001b[0m\u001b[1;32m    166\u001b[0m \u001b[0;34m\u001b[0m\u001b[0m\n\u001b[1;32m    167\u001b[0m     \u001b[0;32mdef\u001b[0m \u001b[0mruntime\u001b[0m\u001b[0;34m(\u001b[0m\u001b[0mself\u001b[0m\u001b[0;34m)\u001b[0m\u001b[0;34m:\u001b[0m\u001b[0;34m\u001b[0m\u001b[0;34m\u001b[0m\u001b[0m\n",
      "\u001b[0;32m/opt/conda/envs/envPython37/lib/python3.7/site-packages/talos/scan/Scan.py\u001b[0m in \u001b[0;36mruntime\u001b[0;34m(self)\u001b[0m\n\u001b[1;32m    167\u001b[0m     \u001b[0;32mdef\u001b[0m \u001b[0mruntime\u001b[0m\u001b[0;34m(\u001b[0m\u001b[0mself\u001b[0m\u001b[0;34m)\u001b[0m\u001b[0;34m:\u001b[0m\u001b[0;34m\u001b[0m\u001b[0;34m\u001b[0m\u001b[0m\n\u001b[1;32m    168\u001b[0m \u001b[0;34m\u001b[0m\u001b[0m\n\u001b[0;32m--> 169\u001b[0;31m         \u001b[0mself\u001b[0m \u001b[0;34m=\u001b[0m \u001b[0mscan_prepare\u001b[0m\u001b[0;34m(\u001b[0m\u001b[0mself\u001b[0m\u001b[0;34m)\u001b[0m\u001b[0;34m\u001b[0m\u001b[0;34m\u001b[0m\u001b[0m\n\u001b[0m\u001b[1;32m    170\u001b[0m         \u001b[0mself\u001b[0m \u001b[0;34m=\u001b[0m \u001b[0mscan_run\u001b[0m\u001b[0;34m(\u001b[0m\u001b[0mself\u001b[0m\u001b[0;34m)\u001b[0m\u001b[0;34m\u001b[0m\u001b[0;34m\u001b[0m\u001b[0m\n",
      "\u001b[0;32m/opt/conda/envs/envPython37/lib/python3.7/site-packages/talos/scan/scan_prepare.py\u001b[0m in \u001b[0;36mscan_prepare\u001b[0;34m(self)\u001b[0m\n\u001b[1;32m     40\u001b[0m \u001b[0;34m\u001b[0m\u001b[0m\n\u001b[1;32m     41\u001b[0m     \u001b[0;31m# create the paramater object and move to self\u001b[0m\u001b[0;34m\u001b[0m\u001b[0;34m\u001b[0m\u001b[0;34m\u001b[0m\u001b[0m\n\u001b[0;32m---> 42\u001b[0;31m     \u001b[0mself\u001b[0m\u001b[0;34m.\u001b[0m\u001b[0mparamgrid_object\u001b[0m \u001b[0;34m=\u001b[0m \u001b[0mParamGrid\u001b[0m\u001b[0;34m(\u001b[0m\u001b[0mself\u001b[0m\u001b[0;34m)\u001b[0m\u001b[0;34m\u001b[0m\u001b[0;34m\u001b[0m\u001b[0m\n\u001b[0m\u001b[1;32m     43\u001b[0m     \u001b[0mself\u001b[0m\u001b[0;34m.\u001b[0m\u001b[0mparam_log\u001b[0m \u001b[0;34m=\u001b[0m \u001b[0mself\u001b[0m\u001b[0;34m.\u001b[0m\u001b[0mparamgrid_object\u001b[0m\u001b[0;34m.\u001b[0m\u001b[0mparam_log\u001b[0m\u001b[0;34m\u001b[0m\u001b[0;34m\u001b[0m\u001b[0m\n\u001b[1;32m     44\u001b[0m     \u001b[0mself\u001b[0m\u001b[0;34m.\u001b[0m\u001b[0mparam_grid\u001b[0m \u001b[0;34m=\u001b[0m \u001b[0mself\u001b[0m\u001b[0;34m.\u001b[0m\u001b[0mparamgrid_object\u001b[0m\u001b[0;34m.\u001b[0m\u001b[0mparam_grid\u001b[0m\u001b[0;34m\u001b[0m\u001b[0;34m\u001b[0m\u001b[0m\n",
      "\u001b[0;32m/opt/conda/envs/envPython37/lib/python3.7/site-packages/talos/parameters/ParamGrid.py\u001b[0m in \u001b[0;36m__init__\u001b[0;34m(self, main_self)\u001b[0m\n\u001b[1;32m     20\u001b[0m \u001b[0;34m\u001b[0m\u001b[0m\n\u001b[1;32m     21\u001b[0m         \u001b[0;31m# convert the input to useful format\u001b[0m\u001b[0;34m\u001b[0m\u001b[0;34m\u001b[0m\u001b[0;34m\u001b[0m\u001b[0m\n\u001b[0;32m---> 22\u001b[0;31m         \u001b[0mself\u001b[0m\u001b[0;34m.\u001b[0m\u001b[0m_p\u001b[0m \u001b[0;34m=\u001b[0m \u001b[0mself\u001b[0m\u001b[0;34m.\u001b[0m\u001b[0m_param_input_conversion\u001b[0m\u001b[0;34m(\u001b[0m\u001b[0;34m)\u001b[0m\u001b[0;34m\u001b[0m\u001b[0;34m\u001b[0m\u001b[0m\n\u001b[0m\u001b[1;32m     23\u001b[0m \u001b[0;34m\u001b[0m\u001b[0m\n\u001b[1;32m     24\u001b[0m         \u001b[0;31m# build the parameter permutation grid\u001b[0m\u001b[0;34m\u001b[0m\u001b[0;34m\u001b[0m\u001b[0;34m\u001b[0m\u001b[0m\n",
      "\u001b[0;32m/opt/conda/envs/envPython37/lib/python3.7/site-packages/talos/parameters/ParamGrid.py\u001b[0m in \u001b[0;36m_param_input_conversion\u001b[0;34m(self)\u001b[0m\n\u001b[1;32m     69\u001b[0m                 out[param] = self._param_range(self.main_self.params[param][0],\n\u001b[1;32m     70\u001b[0m                                                \u001b[0mself\u001b[0m\u001b[0;34m.\u001b[0m\u001b[0mmain_self\u001b[0m\u001b[0;34m.\u001b[0m\u001b[0mparams\u001b[0m\u001b[0;34m[\u001b[0m\u001b[0mparam\u001b[0m\u001b[0;34m]\u001b[0m\u001b[0;34m[\u001b[0m\u001b[0;36m1\u001b[0m\u001b[0;34m]\u001b[0m\u001b[0;34m,\u001b[0m\u001b[0;34m\u001b[0m\u001b[0;34m\u001b[0m\u001b[0m\n\u001b[0;32m---> 71\u001b[0;31m                                                self.main_self.params[param][2])\n\u001b[0m\u001b[1;32m     72\u001b[0m             \u001b[0;31m# all other input styles\u001b[0m\u001b[0;34m\u001b[0m\u001b[0;34m\u001b[0m\u001b[0;34m\u001b[0m\u001b[0m\n\u001b[1;32m     73\u001b[0m             \u001b[0;32melse\u001b[0m\u001b[0;34m:\u001b[0m\u001b[0;34m\u001b[0m\u001b[0;34m\u001b[0m\u001b[0m\n",
      "\u001b[0;32m/opt/conda/envs/envPython37/lib/python3.7/site-packages/talos/parameters/ParamGrid.py\u001b[0m in \u001b[0;36m_param_range\u001b[0;34m(self, start, end, n)\u001b[0m\n\u001b[1;32m     91\u001b[0m         \u001b[0;31m# this is for python2\u001b[0m\u001b[0;34m\u001b[0m\u001b[0;34m\u001b[0m\u001b[0;34m\u001b[0m\u001b[0m\n\u001b[1;32m     92\u001b[0m         \u001b[0;32mexcept\u001b[0m \u001b[0mZeroDivisionError\u001b[0m\u001b[0;34m:\u001b[0m\u001b[0;34m\u001b[0m\u001b[0;34m\u001b[0m\u001b[0m\n\u001b[0;32m---> 93\u001b[0;31m             \u001b[0mout\u001b[0m \u001b[0;34m=\u001b[0m \u001b[0marange\u001b[0m\u001b[0;34m(\u001b[0m\u001b[0mstart\u001b[0m\u001b[0;34m,\u001b[0m \u001b[0mend\u001b[0m\u001b[0;34m,\u001b[0m \u001b[0;34m(\u001b[0m\u001b[0mend\u001b[0m \u001b[0;34m-\u001b[0m \u001b[0mstart\u001b[0m\u001b[0;34m)\u001b[0m \u001b[0;34m/\u001b[0m \u001b[0mfloat\u001b[0m\u001b[0;34m(\u001b[0m\u001b[0mn\u001b[0m\u001b[0;34m)\u001b[0m\u001b[0;34m,\u001b[0m \u001b[0mdtype\u001b[0m\u001b[0;34m=\u001b[0m\u001b[0mfloat\u001b[0m\u001b[0;34m)\u001b[0m\u001b[0;34m\u001b[0m\u001b[0;34m\u001b[0m\u001b[0m\n\u001b[0m\u001b[1;32m     94\u001b[0m \u001b[0;34m\u001b[0m\u001b[0m\n\u001b[1;32m     95\u001b[0m         \u001b[0;32mif\u001b[0m \u001b[0mtype\u001b[0m\u001b[0;34m(\u001b[0m\u001b[0mstart\u001b[0m\u001b[0;34m)\u001b[0m \u001b[0;34m==\u001b[0m \u001b[0mint\u001b[0m \u001b[0;32mand\u001b[0m \u001b[0mtype\u001b[0m\u001b[0;34m(\u001b[0m\u001b[0mend\u001b[0m\u001b[0;34m)\u001b[0m \u001b[0;34m==\u001b[0m \u001b[0mint\u001b[0m\u001b[0;34m:\u001b[0m\u001b[0;34m\u001b[0m\u001b[0;34m\u001b[0m\u001b[0m\n",
      "\u001b[0;31mZeroDivisionError\u001b[0m: float division by zero"
     ]
    }
   ],
   "source": [
    "talos.Scan(X_test,y_test,\n",
    "           model=run_model,\n",
    "           params=param)"
   ]
  },
  {
   "cell_type": "code",
   "execution_count": null,
   "metadata": {},
   "outputs": [],
   "source": []
  }
 ],
 "metadata": {
  "kernelspec": {
   "display_name": "Python (envPython37)",
   "language": "python",
   "name": "envpython37"
  },
  "language_info": {
   "codemirror_mode": {
    "name": "ipython",
    "version": 3
   },
   "file_extension": ".py",
   "mimetype": "text/x-python",
   "name": "python",
   "nbconvert_exporter": "python",
   "pygments_lexer": "ipython3",
   "version": "3.7.2"
  }
 },
 "nbformat": 4,
 "nbformat_minor": 2
}
