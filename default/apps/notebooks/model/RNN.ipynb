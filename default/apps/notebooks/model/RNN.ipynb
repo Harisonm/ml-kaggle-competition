{
 "cells": [
  {
   "cell_type": "markdown",
   "metadata": {
    "id": "view-in-github",
    "colab_type": "text"
   },
   "source": [
    "<a href=\"https://colab.research.google.com/github/Harisonm/4aibd-s1-project-ml/blob/yas_branch/RNN.ipynb\" target=\"_parent\"><img src=\"https://colab.research.google.com/assets/colab-badge.svg\" alt=\"Open In Colab\"/></a>"
   ]
  },
  {
   "cell_type": "code",
   "execution_count": 0,
   "metadata": {
    "id": "ajHgj-0mDTNA",
    "colab_type": "code",
    "colab": {}
   },
   "outputs": [],
   "source": [
    "# Simple RNN model for CIFAR-10\\n\",\n",
    "        import numpy\n",
    "        from keras.datasets import cifar10\n",
    "        from keras.models import Sequential\n",
    "        from keras.layers import Dense\n",
    "        from keras.layers import Dropout\n",
    "        from keras.layers import LSTM\n",
    "        from keras.constraints import maxnorm\n",
    "        from keras.optimizers import SGD\n",
    "        from keras.utils import np_utils\n",
    "        from keras import backend as K\n",
    "        from keras.callbacks import TensorBoard"
   ]
  },
  {
   "cell_type": "code",
   "execution_count": 0,
   "metadata": {
    "id": "YZGLgDEZEHv3",
    "colab_type": "code",
    "colab": {}
   },
   "outputs": [],
   "source": [
    "K.set_image_dim_ordering('th')"
   ]
  },
  {
   "cell_type": "code",
   "execution_count": 0,
   "metadata": {
    "id": "jMFZ-ujHEMqg",
    "colab_type": "code",
    "colab": {}
   },
   "outputs": [],
   "source": [
    "# fix random seed for reproducibility\n",
    "        seed = 7\n",
    "        numpy.random.seed(seed)\n",
    "        batch_size = 128"
   ]
  },
  {
   "cell_type": "code",
   "execution_count": 0,
   "metadata": {
    "id": "UoqvYTegEbu6",
    "colab_type": "code",
    "colab": {}
   },
   "outputs": [],
   "source": [
    "# load data\n",
    "        (X_train, y_train), (X_test, y_test) = cifar10.load_data()"
   ]
  },
  {
   "cell_type": "code",
   "execution_count": 0,
   "metadata": {
    "id": "fep1_5FjEjwR",
    "colab_type": "code",
    "colab": {}
   },
   "outputs": [],
   "source": [
    "# normalize inputs from 0-255 to 0.0-1.0\n",
    "        X_train = X_train.astype('float32')\n",
    "        X_test = X_test.astype('float32')\n",
    "        X_train = X_train / 255.0\n",
    "        X_test = X_test / 255.0"
   ]
  },
  {
   "cell_type": "code",
   "execution_count": 0,
   "metadata": {
    "id": "GNWq8TF1Eunl",
    "colab_type": "code",
    "colab": {}
   },
   "outputs": [],
   "source": [
    "# one hot encode outputs\n",
    "        y_train = np_utils.to_categorical(y_train)\n",
    "        y_test = np_utils.to_categorical(y_test)\n",
    "        num_classes = y_test.shape[1]"
   ]
  },
  {
   "cell_type": "code",
   "execution_count": 0,
   "metadata": {
    "id": "K_STC0CxE_8L",
    "colab_type": "code",
    "colab": {}
   },
   "outputs": [],
   "source": [
    "#reshape X (32, 32*3)\n",
    "        X_train = numpy.reshape(X_train, (len(X_train),32, 96))\n",
    "        X_test = numpy.reshape(X_test, (len(X_test),32, 96))"
   ]
  },
  {
   "cell_type": "code",
   "execution_count": 0,
   "metadata": {
    "id": "nNM5Bl7mFOWb",
    "colab_type": "code",
    "colab": {}
   },
   "outputs": [],
   "source": [
    "# Create the model\n",
    "        model = Sequential()\n",
    "        model.add(LSTM(32, input_shape=(32, 96),\n",
    "                            activation='relu', kernel_constraint=maxnorm(3),\n",
    "                            return_sequences=True\n",
    "                      ))\n",
    "        model.add(Dropout(0.2))\n",
    "        model.add(LSTM(32, activation='relu', kernel_constraint=maxnorm(3)))\n",
    "        model.add(Dropout(0.2))\n",
    "        model.add(Dense(num_classes, activation='softmax'))"
   ]
  },
  {
   "cell_type": "code",
   "execution_count": 0,
   "metadata": {
    "id": "Jz8i_OphFb8l",
    "colab_type": "code",
    "colab": {}
   },
   "outputs": [],
   "source": [
    "# Compile model\n",
    "        epochs = 25\n",
    "        lrate = 0.01\n",
    "        decay = lrate/epochs\n",
    "        sgd = SGD(lr=lrate, momentum=0.9, decay=decay, nesterov=False)\n",
    "        model.compile(loss='categorical_crossentropy', optimizer=sgd, metrics=['accuracy'])\n",
    "        print(model.summary())"
   ]
  },
  {
   "cell_type": "code",
   "execution_count": 0,
   "metadata": {
    "id": "HNi_UkZMFzJf",
    "colab_type": "code",
    "colab": {}
   },
   "outputs": [],
   "source": [
    "model_str = \"RNN_\" + str(epochs) + \"_epochs_\" + \"cifar10\" + \"categorical_crossentropy\"\n",
    "model.save(\"./tensorboard/saved_models\" + model_str, True, True)"
   ]
  },
  {
   "cell_type": "code",
   "execution_count": 0,
   "metadata": {
    "id": "JcS6w9YBGcbX",
    "colab_type": "code",
    "colab": {}
   },
   "outputs": [],
   "source": [
    "# Tensorboard callback\n",
    "        tb_callback = TensorBoard(\n",
    "            log_dir=\"./tensorboard/logs/\" + \"RNN\" + \"_epochs_\" + str(epochs) + \"RNN_same_relu_softmax\")"
   ]
  },
  {
   "cell_type": "code",
   "execution_count": 0,
   "metadata": {
    "id": "F9cB9yoUGvlq",
    "colab_type": "code",
    "colab": {}
   },
   "outputs": [],
   "source": [
    "# Fit the model\n",
    "        # batch_size -> a modifier selon la carte graphique\n",
    "        model.fit(X_train, y_train,\n",
    "                  validation_data=(X_test, y_test),\n",
    "                  epochs=epochs,\n",
    "                  batch_size=32)\n",
    "        # Final evaluation of the model\n",
    "        scores = model.evaluate(X_test, y_test, verbose=0)\n",
    "        print(\"Accuracy: %.2f%%\" % (scores[1]*100))"
   ]
  }
 ],
 "metadata": {
  "colab": {
   "name": "Untitled1.ipynb",
   "version": "0.3.2",
   "provenance": [],
   "include_colab_link": true
  },
  "kernelspec": {
   "name": "python3",
   "display_name": "Python 3"
  }
 },
 "nbformat": 4,
 "nbformat_minor": 0
}
