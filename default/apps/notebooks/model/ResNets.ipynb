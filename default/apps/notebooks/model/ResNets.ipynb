{
 "cells": [
  {
   "cell_type": "code",
   "execution_count": null,
   "metadata": {},
   "outputs": [],
   "source": [
    "# CNN model for CIFAR-10\n",
    "import numpy\n",
    "from keras.optimizers import SGD\n",
    "from keras.datasets import cifar10\n",
    "from keras.losses import mse, logcosh, binary_crossentropy, categorical_crossentropy\n",
    "from keras.activations import relu, elu, softmax, sigmoid, linear\n",
    "from keras.constraints import maxnorm\n",
    "from keras.datasets import cifar10\n",
    "from keras.models import Sequential\n",
    "from keras.layers import Dense\n",
    "from keras import Input, Model\n",
    "from keras.layers import Dropout\n",
    "from keras.layers import LSTM, Reshape\n",
    "from keras.layers import TimeDistributed, Flatten\n",
    "from keras.layers.convolutional import Conv2D\n",
    "from keras.layers.convolutional import MaxPooling2D\n",
    "from keras import Input, Model\n",
    "from keras.callbacks import TensorBoard\n",
    "from keras.layers import Dense, Add, Dropout\n",
    "from keras.constraints import maxnorm\n",
    "from keras.optimizers import SGD\n",
    "from keras.utils import np_utils\n",
    "from keras import backend as K\n",
    "from keras.callbacks import TensorBoard\n",
    "import random"
   ]
  },
  {
   "cell_type": "markdown",
   "metadata": {},
   "source": [
    "### Fonction de construction du ResNets"
   ]
  },
  {
   "cell_type": "code",
   "execution_count": null,
   "metadata": {},
   "outputs": [],
   "source": [
    "def network_builder(network_conf, network_archi):\n",
    "    \n",
    "    while len(network_conf) > 0:\n",
    "        \n",
    "        # Premiere couche\n",
    "        if 'input_layer' in network_conf:\n",
    "            \n",
    "            # Add first layer\n",
    "            input_layer = Input(shape=(network_conf['input_layer']['input_dim'],))\n",
    "            \n",
    "            # Add first hidden Layer\n",
    "            hidden1 = Dense(network_conf['hidden_layer']['hidden_dim'],\n",
    "                           activation=network_conf['hidden_layer']['activation'])(input_layer)\n",
    "            \n",
    "            hidden2 = Dense(network_conf['hidden_layer']['hidden_dim'],\n",
    "                            activation=network_conf['hidden_layer']['activation'])(hidden1)\n",
    "            \n",
    "            res = Add()([hidden1, hidden2])\n",
    "            \n",
    "            #store data in list\n",
    "            network_archi.append(input_layer)\n",
    "            network_archi.append(hidden1)\n",
    "            network_archi.append(hidden2)\n",
    "            network_archi.append(res)\n",
    "            \n",
    "            \n",
    "            # Delete pills of stack\n",
    "            network_conf.pop('input_layer')\n",
    "            network_builder(network_conf, network_archi)\n",
    "            \n",
    "        # Couche caché\n",
    "        elif len(network_conf) > 1 and network_conf['hidden_layer']['nbr_hidden_layer'] > 0:\n",
    "            \n",
    "            hidden = Dense(network_conf['hidden_layer']['hidden_dim'], \n",
    "                           activation=network_conf['hidden_layer']['activation'])(network_archi[-1])\n",
    "            \n",
    "            res = Add()([network_archi[-2], hidden])\n",
    "            \n",
    "            network_archi.append(hidden)\n",
    "            network_archi.append(res)\n",
    "            \n",
    "            # decrement nbr_hidden_layer\n",
    "            network_conf['hidden_layer']['nbr_hidden_layer'] -= 1\n",
    "            \n",
    "            if(network_conf['hidden_layer']['nbr_hidden_layer'] == 0):\n",
    "                # Derniere couche\n",
    "                network_conf.pop('hidden_layer')\n",
    "            \n",
    "            network_builder(network_conf, network_archi)\n",
    "        \n",
    "        elif len(network_conf) == 1:\n",
    "            output_layer = Dense(network_conf['output_layer']['output_dim'],\n",
    "                                 activation=network_conf['output_layer']['activation'])(network_archi[-1])\n",
    "\n",
    "            network_archi.append(output_layer)\n",
    "            network_conf.pop('output_layer')\n",
    "            \n",
    "            network_archi.append(Model(network_archi[0], output_layer))"
   ]
  },
  {
   "cell_type": "markdown",
   "metadata": {},
   "source": [
    "# I.Parametrage des hyper-paramètres"
   ]
  },
  {
   "cell_type": "code",
   "execution_count": null,
   "metadata": {},
   "outputs": [],
   "source": [
    "# fix random seed for reproducibility\n",
    "seed = 7\n",
    "numpy.random.seed(seed)"
   ]
  },
  {
   "cell_type": "code",
   "execution_count": null,
   "metadata": {},
   "outputs": [],
   "source": [
    "lr = numpy.random.random() * (0.1 - 0.0001) + 0.0001\n",
    "momentum = numpy.random.random() * (0.1 - 0.0001) + 0.0001\n",
    "epochs = 1\n",
    "decay = lr / epochs"
   ]
  },
  {
   "cell_type": "code",
   "execution_count": null,
   "metadata": {},
   "outputs": [],
   "source": [
    "Param = {'input_shape': 3072,\n",
    "             'input_shape_rnn': (32, 96),\n",
    "             'input_shape_cnn': (32, 32, 3),\n",
    "             'lr': lr,\n",
    "             'hidden_dim': 128,\n",
    "             'units': 512,\n",
    "             'unitsSlp': 10,\n",
    "             'last_units': 10,\n",
    "             'first_neuron': [4, 8, 16, 32, 64],\n",
    "             'hidden_layers': [2, 4, 6, 8, 9, 10, 20, 25, 30],\n",
    "             'kernel_constraint': maxnorm(3),\n",
    "             'batch_size': (64, 128, 512, 1024, 2048),\n",
    "             'epochs': epochs,\n",
    "             'dropout': (0, 0.5, 5, 1),\n",
    "             'padding': 'same',\n",
    "             'metrics': ['accuracy'],\n",
    "             'weight_regulizer': [None],\n",
    "             'emb_output_dims': [None],\n",
    "             'shape': ['brick', 'long_funnel'],\n",
    "             'optimizer': ['adam', 'Nadam', 'RMSprop', SGD(lr=lr, momentum=momentum, decay=decay, nesterov=False)],\n",
    "             'losses': [mse, logcosh, binary_crossentropy, categorical_crossentropy],\n",
    "             'activation': [relu, elu, linear],\n",
    "             'last_activation': [softmax, sigmoid],\n",
    "             'nb_classes': 10}"
   ]
  },
  {
   "cell_type": "code",
   "execution_count": null,
   "metadata": {},
   "outputs": [],
   "source": [
    "def _random_param(param):\n",
    "    \"\"\"\n",
    "    _random_param : do random to param values\n",
    "    :param param:\n",
    "    :return:\n",
    "    \"\"\"\n",
    "    rand_param = {'input_shape': param['input_shape'],\n",
    "                  'input_shape_cnn': param['input_shape_cnn'],\n",
    "                  'input_shape_rnn': param['input_shape_rnn'],\n",
    "                  'lr': param['lr'],\n",
    "                  'hidden_dim': param['hidden_dim'],\n",
    "                  'units': param['units'],\n",
    "                  'unitsSlp': param['unitsSlp'],\n",
    "                  'padding': param['padding'],\n",
    "                  'last_units': param['last_units'],\n",
    "                  'first_neuron': random.choice(param['first_neuron']),\n",
    "                  'hidden_layers': random.choice(param['hidden_layers']),\n",
    "                  'kernel_constraint': param['kernel_constraint'],\n",
    "                  'batch_size': random.choice(param['batch_size']),\n",
    "                  'epochs': param['epochs'],\n",
    "                  'dropout': random.choice(param['dropout']),\n",
    "                  'metrics': param['metrics'],\n",
    "                  'weight_regulizer': param['weight_regulizer'],\n",
    "                  'emb_output_dims': ['emb_output_dims'],\n",
    "                  'shape': random.choice(param['shape']),\n",
    "                  'optimizer': random.choice(param['optimizer']),\n",
    "                  'losses': random.choice(param['losses']),\n",
    "                  'activation': random.choice(param['activation']),\n",
    "                  'last_activation': random.choice(param['last_activation']),\n",
    "                  'nb_classes': param['nb_classes']}\n",
    "    return rand_param"
   ]
  },
  {
   "cell_type": "markdown",
   "metadata": {},
   "source": [
    "# II. Prétraitement de la donnée"
   ]
  },
  {
   "cell_type": "code",
   "execution_count": null,
   "metadata": {},
   "outputs": [],
   "source": [
    "def _preprocess_cifar10(__param):\n",
    "    \"\"\"\n",
    "    :param dataset:\n",
    "    :return:\n",
    "    \"\"\"\n",
    "    (__X_train, __y_train), (__X_test, __y_test) = cifar10.load_data()\n",
    "    __X_train = __X_train.reshape(50000, 32 * 32 * 3)\n",
    "    __X_test = __X_test.reshape(10000, 32 * 32 * 3)\n",
    "\n",
    "    __X_train = __X_train.astype('float32')\n",
    "    __X_test = __X_test.astype('float32')\n",
    "    __X_train /= 255.0\n",
    "    __X_test /= 255.0\n",
    "\n",
    "    __y_train = np_utils.to_categorical(__y_train, __param['nb_classes'])\n",
    "    __y_test = np_utils.to_categorical(__y_test, __param['nb_classes'])\n",
    "    return (__X_train, __y_train), (__X_test, __y_test)"
   ]
  },
  {
   "cell_type": "markdown",
   "metadata": {},
   "source": [
    "## 1. Charge et prépare le dataset"
   ]
  },
  {
   "cell_type": "code",
   "execution_count": null,
   "metadata": {},
   "outputs": [],
   "source": [
    "param = _random_param(Param)\n",
    "dataset = _preprocess_cifar10(param)"
   ]
  },
  {
   "cell_type": "code",
   "execution_count": null,
   "metadata": {},
   "outputs": [],
   "source": [
    "# load data\n",
    "(X_train, y_train), (X_test, y_test) = dataset\n",
    "nb_classes = y_test.shape[1]"
   ]
  },
  {
   "cell_type": "markdown",
   "metadata": {},
   "source": [
    "# III. Gestion du modèle"
   ]
  },
  {
   "cell_type": "markdown",
   "metadata": {},
   "source": [
    "## 1. Paramètrage du modèle"
   ]
  },
  {
   "cell_type": "code",
   "execution_count": null,
   "metadata": {},
   "outputs": [],
   "source": [
    "def __network_architecture_builder(param):\n",
    "    \"\"\"\n",
    "    network_architecture_builder : Configuration of architecture ResNets network\n",
    "    :return:\n",
    "    \"\"\"\n",
    "\n",
    "    network_conf = {}\n",
    "    network_conf.update({'input_layer': {'input_dim': param['input_shape']}\n",
    "                         })\n",
    "\n",
    "    network_conf.update({'hidden_layer': {'hidden_dim': param['hidden_dim'],\n",
    "                                          'activation': param['activation'],\n",
    "                                          'nbr_hidden_layer': param['hidden_layers']\n",
    "                                          }\n",
    "                         })\n",
    "\n",
    "    network_conf.update({'output_layer': {'output_dim': param['unitsSlp'],\n",
    "                                          'activation': param['last_activation']}\n",
    "                         })\n",
    "    return network_conf"
   ]
  },
  {
   "cell_type": "code",
   "execution_count": null,
   "metadata": {},
   "outputs": [],
   "source": [
    "_network_config = __network_architecture_builder(param)\n",
    "_network_architecture = []"
   ]
  },
  {
   "cell_type": "markdown",
   "metadata": {},
   "source": [
    "## 2. Construction du modèles"
   ]
  },
  {
   "cell_type": "code",
   "execution_count": null,
   "metadata": {},
   "outputs": [],
   "source": [
    "# Call function to build network\n",
    "network_builder(_network_config,_network_architecture)\n",
    "\n",
    "# Call model\n",
    "model = _network_architecture[-1]"
   ]
  },
  {
   "cell_type": "markdown",
   "metadata": {},
   "source": [
    "## 3. compile le modèle"
   ]
  },
  {
   "cell_type": "code",
   "execution_count": null,
   "metadata": {},
   "outputs": [],
   "source": [
    "# Compile model\n",
    "model.compile(loss=param['losses'],\n",
    "              optimizer=param['optimizer'],\n",
    "              metrics=param['metrics'])\n",
    "\n",
    "model.summary()"
   ]
  },
  {
   "cell_type": "markdown",
   "metadata": {},
   "source": [
    "## 4. Entrainement le modèle"
   ]
  },
  {
   "cell_type": "code",
   "execution_count": null,
   "metadata": {},
   "outputs": [],
   "source": [
    "# training\n",
    "history = model.fit(X_train, y_train,\n",
    "                    batch_size=param['batch_size'],\n",
    "                    epochs=param['epochs'],\n",
    "                    verbose=1,\n",
    "                    validation_data=(X_test, y_test))"
   ]
  },
  {
   "cell_type": "markdown",
   "metadata": {},
   "source": [
    "## 5. Evalue le modèle"
   ]
  },
  {
   "cell_type": "code",
   "execution_count": null,
   "metadata": {},
   "outputs": [],
   "source": [
    "# Final evaluation of the model\n",
    "score = model.evaluate(X_test, y_test, verbose=1)\n",
    "\n",
    "print('test loss:', score[0])\n",
    "print('test acc:', score[1])"
   ]
  },
  {
   "cell_type": "code",
   "execution_count": null,
   "metadata": {},
   "outputs": [],
   "source": []
  }
 ],
 "metadata": {
  "kernelspec": {
   "display_name": "Python (envPython36)",
   "language": "python",
   "name": "envpython36"
  },
  "language_info": {
   "codemirror_mode": {
    "name": "ipython",
    "version": 3
   },
   "file_extension": ".py",
   "mimetype": "text/x-python",
   "name": "python",
   "nbconvert_exporter": "python",
   "pygments_lexer": "ipython3",
   "version": "3.6.8"
  }
 },
 "nbformat": 4,
 "nbformat_minor": 2
}
