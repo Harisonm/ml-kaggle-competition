{
 "cells": [
  {
   "cell_type": "code",
   "execution_count": 1,
   "metadata": {},
   "outputs": [
    {
     "name": "stderr",
     "output_type": "stream",
     "text": [
      "Using TensorFlow backend.\n"
     ]
    }
   ],
   "source": [
    "# CNN model for CIFAR-10\n",
    "import numpy\n",
    "from keras.optimizers import SGD\n",
    "from keras.datasets import cifar10\n",
    "from keras.losses import mse, logcosh, binary_crossentropy, categorical_crossentropy\n",
    "from keras.activations import relu, elu, softmax, sigmoid, linear\n",
    "from keras.constraints import maxnorm\n",
    "from keras.datasets import cifar10\n",
    "from keras.models import Sequential\n",
    "from keras.layers import Dense\n",
    "from keras import Input, Model\n",
    "from keras.layers import Dropout\n",
    "from keras.layers import LSTM, Reshape\n",
    "from keras.layers import TimeDistributed, Flatten\n",
    "from keras.layers.convolutional import Conv2D\n",
    "from keras.layers.convolutional import MaxPooling2D\n",
    "from keras import Input, Model\n",
    "from keras.callbacks import TensorBoard\n",
    "from keras.layers import Dense, Add, Dropout\n",
    "from keras.constraints import maxnorm\n",
    "from keras.optimizers import SGD\n",
    "from keras.utils import np_utils\n",
    "from keras import backend as K\n",
    "from keras.callbacks import TensorBoard\n",
    "import random"
   ]
  },
  {
   "cell_type": "markdown",
   "metadata": {},
   "source": [
    "### Fonction de construction du ResNets"
   ]
  },
  {
   "cell_type": "code",
   "execution_count": 2,
   "metadata": {},
   "outputs": [],
   "source": [
    "def network_builder(network_conf, network_archi):\n",
    "    \n",
    "    while len(network_conf) > 0:\n",
    "        \n",
    "        # Premiere couche\n",
    "        if 'input_layer' in network_conf:\n",
    "            \n",
    "            # Add first layer\n",
    "            input_layer = Input(shape=(network_conf['input_layer']['input_dim'],))\n",
    "            \n",
    "            # Add first hidden Layer\n",
    "            hidden1 = Dense(network_conf['hidden_layer']['hidden_dim'],\n",
    "                           activation=network_conf['hidden_layer']['activation'])(input_layer)\n",
    "            \n",
    "            hidden2 = Dense(network_conf['hidden_layer']['hidden_dim'],\n",
    "                            activation=network_conf['hidden_layer']['activation'])(hidden1)\n",
    "            \n",
    "            res = Add()([hidden1, hidden2])\n",
    "            \n",
    "            #store data in list\n",
    "            network_archi.append(input_layer)\n",
    "            network_archi.append(hidden1)\n",
    "            network_archi.append(hidden2)\n",
    "            network_archi.append(res)\n",
    "            \n",
    "            \n",
    "            # Delete pills of stack\n",
    "            network_conf.pop('input_layer')\n",
    "            network_builder(network_conf, network_archi)\n",
    "            \n",
    "        # Couche caché\n",
    "        elif len(network_conf) > 1 and network_conf['hidden_layer']['nbr_hidden_layer'] > 0:\n",
    "            \n",
    "            hidden = Dense(network_conf['hidden_layer']['hidden_dim'], \n",
    "                           activation=network_conf['hidden_layer']['activation'])(network_archi[-1])\n",
    "            \n",
    "            res = Add()([network_archi[-2], hidden])\n",
    "            \n",
    "            network_archi.append(hidden)\n",
    "            network_archi.append(res)\n",
    "            \n",
    "            # decrement nbr_hidden_layer\n",
    "            network_conf['hidden_layer']['nbr_hidden_layer'] -= 1\n",
    "            \n",
    "            if(network_conf['hidden_layer']['nbr_hidden_layer'] == 0):\n",
    "                # Derniere couche\n",
    "                network_conf.pop('hidden_layer')\n",
    "            \n",
    "            network_builder(network_conf, network_archi)\n",
    "        \n",
    "        elif len(network_conf) == 1:\n",
    "            output_layer = Dense(network_conf['output_layer']['output_dim'],\n",
    "                                 activation=network_conf['output_layer']['activation'])(network_archi[-1])\n",
    "\n",
    "            network_archi.append(output_layer)\n",
    "            network_conf.pop('output_layer')\n",
    "            \n",
    "            network_archi.append(Model(network_archi[0], output_layer))"
   ]
  },
  {
   "cell_type": "markdown",
   "metadata": {},
   "source": [
    "# I.Parametrage des hyper-paramètres"
   ]
  },
  {
   "cell_type": "code",
   "execution_count": 3,
   "metadata": {},
   "outputs": [],
   "source": [
    "# fix random seed for reproducibility\n",
    "seed = 7\n",
    "numpy.random.seed(seed)"
   ]
  },
  {
   "cell_type": "code",
   "execution_count": 4,
   "metadata": {},
   "outputs": [],
   "source": [
    "lr = numpy.random.random() * (0.1 - 0.0001) + 0.0001\n",
    "momentum = numpy.random.random() * (0.1 - 0.0001) + 0.0001\n",
    "epochs = 1\n",
    "decay = lr / epochs"
   ]
  },
  {
   "cell_type": "code",
   "execution_count": 17,
   "metadata": {},
   "outputs": [],
   "source": [
    "Param = {'input_shape': 3072,\n",
    "             'input_shape_rnn': (32, 96),\n",
    "             'input_shape_cnn': (32, 32, 3),\n",
    "             'lr': lr,\n",
    "             'hidden_dim': 128,\n",
    "             'units': 512,\n",
    "             'unitsSlp': 10,\n",
    "             'last_units': 10,\n",
    "             'first_neuron': [4, 8, 16, 32, 64],\n",
    "             'hidden_layers': [2, 4, 6, 8, 9, 10, 20, 25, 30],\n",
    "             'kernel_constraint': maxnorm(3),\n",
    "             'batch_size': (64, 128, 512, 1024, 2048),\n",
    "             'epochs': epochs,\n",
    "             'dropout': (0, 0.5, 1),\n",
    "             'padding': 'same',\n",
    "             'metrics': ['accuracy'],\n",
    "             'weight_regulizer': [None],\n",
    "             'emb_output_dims': [None],\n",
    "             'shape': ['brick', 'long_funnel'],\n",
    "             'optimizer': ['adam', 'Nadam', 'RMSprop', SGD(lr=lr, momentum=momentum, decay=decay, nesterov=False)],\n",
    "             'losses': [mse, logcosh, binary_crossentropy, categorical_crossentropy],\n",
    "             'activation': [relu, elu, linear],\n",
    "             'last_activation': [softmax, sigmoid],\n",
    "             'nb_classes': 10}"
   ]
  },
  {
   "cell_type": "code",
   "execution_count": 6,
   "metadata": {},
   "outputs": [],
   "source": [
    "def _random_param(param):\n",
    "    \"\"\"\n",
    "    _random_param : do random to param values\n",
    "    :param param:\n",
    "    :return:\n",
    "    \"\"\"\n",
    "    rand_param = {'input_shape': param['input_shape'],\n",
    "                  'input_shape_cnn': param['input_shape_cnn'],\n",
    "                  'input_shape_rnn': param['input_shape_rnn'],\n",
    "                  'lr': param['lr'],\n",
    "                  'hidden_dim': param['hidden_dim'],\n",
    "                  'units': param['units'],\n",
    "                  'unitsSlp': param['unitsSlp'],\n",
    "                  'padding': param['padding'],\n",
    "                  'last_units': param['last_units'],\n",
    "                  'first_neuron': random.choice(param['first_neuron']),\n",
    "                  'hidden_layers': random.choice(param['hidden_layers']),\n",
    "                  'kernel_constraint': param['kernel_constraint'],\n",
    "                  'batch_size': random.choice(param['batch_size']),\n",
    "                  'epochs': param['epochs'],\n",
    "                  'dropout': random.choice(param['dropout']),\n",
    "                  'metrics': param['metrics'],\n",
    "                  'weight_regulizer': param['weight_regulizer'],\n",
    "                  'emb_output_dims': ['emb_output_dims'],\n",
    "                  'shape': random.choice(param['shape']),\n",
    "                  'optimizer': random.choice(param['optimizer']),\n",
    "                  'losses': random.choice(param['losses']),\n",
    "                  'activation': random.choice(param['activation']),\n",
    "                  'last_activation': random.choice(param['last_activation']),\n",
    "                  'nb_classes': param['nb_classes']}\n",
    "    return rand_param"
   ]
  },
  {
   "cell_type": "markdown",
   "metadata": {},
   "source": [
    "# II. Prétraitement de la donnée"
   ]
  },
  {
   "cell_type": "code",
   "execution_count": 7,
   "metadata": {},
   "outputs": [],
   "source": [
    "def _preprocess_cifar10(__param):\n",
    "    \"\"\"\n",
    "    :param dataset:\n",
    "    :return:\n",
    "    \"\"\"\n",
    "    (__X_train, __y_train), (__X_test, __y_test) = cifar10.load_data()\n",
    "    __X_train = __X_train.reshape(50000, 32 * 32 * 3)\n",
    "    __X_test = __X_test.reshape(10000, 32 * 32 * 3)\n",
    "\n",
    "    __X_train = __X_train.astype('float32')\n",
    "    __X_test = __X_test.astype('float32')\n",
    "    __X_train /= 255.0\n",
    "    __X_test /= 255.0\n",
    "\n",
    "    __y_train = np_utils.to_categorical(__y_train, __param['nb_classes'])\n",
    "    __y_test = np_utils.to_categorical(__y_test, __param['nb_classes'])\n",
    "    return (__X_train, __y_train), (__X_test, __y_test)"
   ]
  },
  {
   "cell_type": "markdown",
   "metadata": {},
   "source": [
    "## 1. Charge et prépare le dataset"
   ]
  },
  {
   "cell_type": "code",
   "execution_count": 8,
   "metadata": {},
   "outputs": [],
   "source": [
    "param = _random_param(Param)\n",
    "dataset = _preprocess_cifar10(param)"
   ]
  },
  {
   "cell_type": "code",
   "execution_count": 9,
   "metadata": {},
   "outputs": [],
   "source": [
    "# load data\n",
    "(X_train, y_train), (X_test, y_test) = dataset\n",
    "nb_classes = y_test.shape[1]"
   ]
  },
  {
   "cell_type": "markdown",
   "metadata": {},
   "source": [
    "# III. Gestion du modèle"
   ]
  },
  {
   "cell_type": "markdown",
   "metadata": {},
   "source": [
    "## 1. Paramètrage du modèle"
   ]
  },
  {
   "cell_type": "code",
   "execution_count": 10,
   "metadata": {},
   "outputs": [],
   "source": [
    "def __network_architecture_builder(param):\n",
    "    \"\"\"\n",
    "    network_architecture_builder : Configuration of architecture ResNets network\n",
    "    :return:\n",
    "    \"\"\"\n",
    "\n",
    "    network_conf = {}\n",
    "    network_conf.update({'input_layer': {'input_dim': param['input_shape']}\n",
    "                         })\n",
    "\n",
    "    network_conf.update({'hidden_layer': {'hidden_dim': param['hidden_dim'],\n",
    "                                          'activation': param['activation'],\n",
    "                                          'nbr_hidden_layer': param['hidden_layers']\n",
    "                                          }\n",
    "                         })\n",
    "\n",
    "    network_conf.update({'output_layer': {'output_dim': param['unitsSlp'],\n",
    "                                          'activation': param['last_activation']}\n",
    "                         })\n",
    "    return network_conf"
   ]
  },
  {
   "cell_type": "code",
   "execution_count": 11,
   "metadata": {},
   "outputs": [],
   "source": [
    "_network_config = __network_architecture_builder(param)\n",
    "_network_architecture = []"
   ]
  },
  {
   "cell_type": "markdown",
   "metadata": {},
   "source": [
    "## 2. Construction du modèles"
   ]
  },
  {
   "cell_type": "code",
   "execution_count": 12,
   "metadata": {},
   "outputs": [],
   "source": [
    "# Call function to build network\n",
    "network_builder(_network_config,_network_architecture)\n",
    "\n",
    "# Call model\n",
    "model = _network_architecture[-1]"
   ]
  },
  {
   "cell_type": "markdown",
   "metadata": {},
   "source": [
    "## 3. compile le modèle"
   ]
  },
  {
   "cell_type": "code",
   "execution_count": 13,
   "metadata": {},
   "outputs": [
    {
     "name": "stdout",
     "output_type": "stream",
     "text": [
      "__________________________________________________________________________________________________\n",
      "Layer (type)                    Output Shape         Param #     Connected to                     \n",
      "==================================================================================================\n",
      "input_1 (InputLayer)            (None, 3072)         0                                            \n",
      "__________________________________________________________________________________________________\n",
      "dense_1 (Dense)                 (None, 128)          393344      input_1[0][0]                    \n",
      "__________________________________________________________________________________________________\n",
      "dense_2 (Dense)                 (None, 128)          16512       dense_1[0][0]                    \n",
      "__________________________________________________________________________________________________\n",
      "add_1 (Add)                     (None, 128)          0           dense_1[0][0]                    \n",
      "                                                                 dense_2[0][0]                    \n",
      "__________________________________________________________________________________________________\n",
      "dense_3 (Dense)                 (None, 128)          16512       add_1[0][0]                      \n",
      "__________________________________________________________________________________________________\n",
      "add_2 (Add)                     (None, 128)          0           dense_2[0][0]                    \n",
      "                                                                 dense_3[0][0]                    \n",
      "__________________________________________________________________________________________________\n",
      "dense_4 (Dense)                 (None, 128)          16512       add_2[0][0]                      \n",
      "__________________________________________________________________________________________________\n",
      "add_3 (Add)                     (None, 128)          0           dense_3[0][0]                    \n",
      "                                                                 dense_4[0][0]                    \n",
      "__________________________________________________________________________________________________\n",
      "dense_5 (Dense)                 (None, 128)          16512       add_3[0][0]                      \n",
      "__________________________________________________________________________________________________\n",
      "add_4 (Add)                     (None, 128)          0           dense_4[0][0]                    \n",
      "                                                                 dense_5[0][0]                    \n",
      "__________________________________________________________________________________________________\n",
      "dense_6 (Dense)                 (None, 128)          16512       add_4[0][0]                      \n",
      "__________________________________________________________________________________________________\n",
      "add_5 (Add)                     (None, 128)          0           dense_5[0][0]                    \n",
      "                                                                 dense_6[0][0]                    \n",
      "__________________________________________________________________________________________________\n",
      "dense_7 (Dense)                 (None, 128)          16512       add_5[0][0]                      \n",
      "__________________________________________________________________________________________________\n",
      "add_6 (Add)                     (None, 128)          0           dense_6[0][0]                    \n",
      "                                                                 dense_7[0][0]                    \n",
      "__________________________________________________________________________________________________\n",
      "dense_8 (Dense)                 (None, 128)          16512       add_6[0][0]                      \n",
      "__________________________________________________________________________________________________\n",
      "add_7 (Add)                     (None, 128)          0           dense_7[0][0]                    \n",
      "                                                                 dense_8[0][0]                    \n",
      "__________________________________________________________________________________________________\n",
      "dense_9 (Dense)                 (None, 128)          16512       add_7[0][0]                      \n",
      "__________________________________________________________________________________________________\n",
      "add_8 (Add)                     (None, 128)          0           dense_8[0][0]                    \n",
      "                                                                 dense_9[0][0]                    \n",
      "__________________________________________________________________________________________________\n",
      "dense_10 (Dense)                (None, 128)          16512       add_8[0][0]                      \n",
      "__________________________________________________________________________________________________\n",
      "add_9 (Add)                     (None, 128)          0           dense_9[0][0]                    \n",
      "                                                                 dense_10[0][0]                   \n",
      "__________________________________________________________________________________________________\n",
      "dense_11 (Dense)                (None, 128)          16512       add_9[0][0]                      \n",
      "__________________________________________________________________________________________________\n",
      "add_10 (Add)                    (None, 128)          0           dense_10[0][0]                   \n",
      "                                                                 dense_11[0][0]                   \n",
      "__________________________________________________________________________________________________\n",
      "dense_12 (Dense)                (None, 128)          16512       add_10[0][0]                     \n",
      "__________________________________________________________________________________________________\n",
      "add_11 (Add)                    (None, 128)          0           dense_11[0][0]                   \n",
      "                                                                 dense_12[0][0]                   \n",
      "__________________________________________________________________________________________________\n",
      "dense_13 (Dense)                (None, 128)          16512       add_11[0][0]                     \n",
      "__________________________________________________________________________________________________\n",
      "add_12 (Add)                    (None, 128)          0           dense_12[0][0]                   \n",
      "                                                                 dense_13[0][0]                   \n",
      "__________________________________________________________________________________________________\n",
      "dense_14 (Dense)                (None, 128)          16512       add_12[0][0]                     \n",
      "__________________________________________________________________________________________________\n",
      "add_13 (Add)                    (None, 128)          0           dense_13[0][0]                   \n",
      "                                                                 dense_14[0][0]                   \n",
      "__________________________________________________________________________________________________\n",
      "dense_15 (Dense)                (None, 128)          16512       add_13[0][0]                     \n",
      "__________________________________________________________________________________________________\n",
      "add_14 (Add)                    (None, 128)          0           dense_14[0][0]                   \n",
      "                                                                 dense_15[0][0]                   \n",
      "__________________________________________________________________________________________________\n",
      "dense_16 (Dense)                (None, 128)          16512       add_14[0][0]                     \n",
      "__________________________________________________________________________________________________\n",
      "add_15 (Add)                    (None, 128)          0           dense_15[0][0]                   \n",
      "                                                                 dense_16[0][0]                   \n",
      "__________________________________________________________________________________________________\n",
      "dense_17 (Dense)                (None, 128)          16512       add_15[0][0]                     \n",
      "__________________________________________________________________________________________________\n",
      "add_16 (Add)                    (None, 128)          0           dense_16[0][0]                   \n",
      "                                                                 dense_17[0][0]                   \n",
      "__________________________________________________________________________________________________\n",
      "dense_18 (Dense)                (None, 128)          16512       add_16[0][0]                     \n",
      "__________________________________________________________________________________________________\n",
      "add_17 (Add)                    (None, 128)          0           dense_17[0][0]                   \n",
      "                                                                 dense_18[0][0]                   \n",
      "__________________________________________________________________________________________________\n",
      "dense_19 (Dense)                (None, 128)          16512       add_17[0][0]                     \n",
      "__________________________________________________________________________________________________\n",
      "add_18 (Add)                    (None, 128)          0           dense_18[0][0]                   \n",
      "                                                                 dense_19[0][0]                   \n",
      "__________________________________________________________________________________________________\n",
      "dense_20 (Dense)                (None, 128)          16512       add_18[0][0]                     \n",
      "__________________________________________________________________________________________________\n",
      "add_19 (Add)                    (None, 128)          0           dense_19[0][0]                   \n",
      "                                                                 dense_20[0][0]                   \n",
      "__________________________________________________________________________________________________\n",
      "dense_21 (Dense)                (None, 128)          16512       add_19[0][0]                     \n",
      "__________________________________________________________________________________________________\n",
      "add_20 (Add)                    (None, 128)          0           dense_20[0][0]                   \n",
      "                                                                 dense_21[0][0]                   \n",
      "__________________________________________________________________________________________________\n",
      "dense_22 (Dense)                (None, 128)          16512       add_20[0][0]                     \n",
      "__________________________________________________________________________________________________\n",
      "add_21 (Add)                    (None, 128)          0           dense_21[0][0]                   \n",
      "                                                                 dense_22[0][0]                   \n",
      "__________________________________________________________________________________________________\n",
      "dense_23 (Dense)                (None, 10)           1290        add_21[0][0]                     \n",
      "==================================================================================================\n",
      "Total params: 741,386\n",
      "Trainable params: 741,386\n",
      "Non-trainable params: 0\n",
      "__________________________________________________________________________________________________\n"
     ]
    }
   ],
   "source": [
    "# Compile model\n",
    "model.compile(loss=param['losses'],\n",
    "              optimizer=param['optimizer'],\n",
    "              metrics=param['metrics'])\n",
    "\n",
    "model.summary()"
   ]
  },
  {
   "cell_type": "markdown",
   "metadata": {},
   "source": [
    "## 4. Entrainement le modèle"
   ]
  },
  {
   "cell_type": "code",
   "execution_count": 14,
   "metadata": {},
   "outputs": [
    {
     "name": "stdout",
     "output_type": "stream",
     "text": [
      "Train on 50000 samples, validate on 10000 samples\n",
      "Epoch 1/1\n",
      "50000/50000 [==============================] - 4s 87us/step - loss: 1.7053 - acc: 0.7876 - val_loss: 0.4431 - val_acc: 0.8711\n"
     ]
    }
   ],
   "source": [
    "# training\n",
    "history = model.fit(X_train, y_train,\n",
    "                    batch_size=param['batch_size'],\n",
    "                    epochs=param['epochs'],\n",
    "                    verbose=1,\n",
    "                    validation_data=(X_test, y_test))"
   ]
  },
  {
   "cell_type": "markdown",
   "metadata": {},
   "source": [
    "## 5. Evalue le modèle"
   ]
  },
  {
   "cell_type": "code",
   "execution_count": 15,
   "metadata": {},
   "outputs": [
    {
     "name": "stdout",
     "output_type": "stream",
     "text": [
      "10000/10000 [==============================] - 1s 111us/step\n",
      "test loss: 0.4431277368068695\n",
      "test acc: 0.8710999856948852\n"
     ]
    }
   ],
   "source": [
    "# Final evaluation of the model\n",
    "score = model.evaluate(X_test, y_test, verbose=1)\n",
    "\n",
    "print('test loss:', score[0])\n",
    "print('test acc:', score[1])"
   ]
  },
  {
   "cell_type": "code",
   "execution_count": 16,
   "metadata": {},
   "outputs": [
    {
     "data": {
      "text/plain": [
       "[0.4431277368068695, 0.8710999856948852]"
      ]
     },
     "execution_count": 16,
     "metadata": {},
     "output_type": "execute_result"
    }
   ],
   "source": [
    "score"
   ]
  },
  {
   "cell_type": "code",
   "execution_count": null,
   "metadata": {},
   "outputs": [],
   "source": []
  }
 ],
 "metadata": {
  "kernelspec": {
   "display_name": "Python (envPython36)",
   "language": "python",
   "name": "envpython36"
  },
  "language_info": {
   "codemirror_mode": {
    "name": "ipython",
    "version": 3
   },
   "file_extension": ".py",
   "mimetype": "text/x-python",
   "name": "python",
   "nbconvert_exporter": "python",
   "pygments_lexer": "ipython3",
   "version": "3.6.8"
  }
 },
 "nbformat": 4,
 "nbformat_minor": 2
}
