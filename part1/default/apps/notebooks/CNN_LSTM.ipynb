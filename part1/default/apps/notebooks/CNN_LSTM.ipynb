{
 "cells": [
  {
   "cell_type": "markdown",
   "metadata": {
    "colab_type": "text",
    "id": "view-in-github"
   },
   "source": [
    "<a href=\"https://colab.research.google.com/github/Harisonm/4aibd-s1-project-ml/blob/yas_branch/4aibd-s1-project-ml/default/apps/notebooks/Rnn.ipynb\" target=\"_parent\"><img src=\"https://colab.research.google.com/assets/colab-badge.svg\" alt=\"Open In Colab\"/></a>"
   ]
  },
  {
   "cell_type": "code",
   "execution_count": 1,
   "metadata": {
    "colab": {
     "base_uri": "https://localhost:8080/",
     "height": 34
    },
    "colab_type": "code",
    "collapsed": false,
    "id": "azyngzM-W0XM",
    "outputId": "780d323a-c3af-4b99-a905-6c68e9bc721f"
   },
   "outputs": [
    {
     "name": "stderr",
     "output_type": "stream",
     "text": [
      "Using TensorFlow backend.\n"
     ]
    }
   ],
   "source": [
    "# CNNLSTM model for CIFAR-10\n",
    "import numpy\n",
    "from keras.optimizers import SGD\n",
    "from keras.datasets import cifar10\n",
    "from keras.losses import mse, logcosh, binary_crossentropy, categorical_crossentropy\n",
    "from keras.activations import relu, elu, softmax, sigmoid, linear\n",
    "from keras.constraints import maxnorm\n",
    "from keras.datasets import cifar10\n",
    "from keras.models import Sequential\n",
    "from keras.layers import Dense\n",
    "from keras.layers import Dropout\n",
    "from keras.layers import LSTM, Reshape\n",
    "from keras.layers import TimeDistributed, Flatten\n",
    "from keras.layers.convolutional import Conv2D\n",
    "from keras.layers.convolutional import MaxPooling2D\n",
    "from keras.constraints import maxnorm\n",
    "from keras.optimizers import SGD\n",
    "from keras.utils import np_utils\n",
    "from keras import backend as K\n",
    "from keras.callbacks import TensorBoard\n",
    "import random"
   ]
  },
  {
   "cell_type": "code",
   "execution_count": 2,
   "metadata": {
    "colab": {},
    "colab_type": "code",
    "id": "kNB_edwyW0Xd"
   },
   "outputs": [],
   "source": [
    "K.set_image_dim_ordering('tf')"
   ]
  },
  {
   "cell_type": "markdown",
   "metadata": {
    "colab": {},
    "colab_type": "code",
    "id": "fFeuQewYW0Xm"
   },
   "source": [
    "# I. Mise en place des hyper-paramètres"
   ]
  },
  {
   "cell_type": "code",
   "execution_count": 3,
   "metadata": {},
   "outputs": [],
   "source": [
    "# fix random seed for reproducibility\n",
    "seed = 7\n",
    "numpy.random.seed(seed)"
   ]
  },
  {
   "cell_type": "code",
   "execution_count": 4,
   "metadata": {},
   "outputs": [],
   "source": [
    "lr = numpy.random.random() * (0.1 - 0.0001) + 0.0001\n",
    "momentum = numpy.random.random() * (0.1 - 0.0001) + 0.0001\n",
    "epochs = 1\n",
    "decay = lr / epochs"
   ]
  },
  {
   "cell_type": "code",
   "execution_count": 16,
   "metadata": {},
   "outputs": [],
   "source": [
    "Param = {'input_shape': 3072,\n",
    "             'input_shape_rnn': (32, 96),\n",
    "             'input_shape_cnn': (32, 32, 3),\n",
    "             'lr': lr,\n",
    "             'hidden_dim': 128,\n",
    "             'units': 512,\n",
    "             'unitsSlp': 10,\n",
    "             'last_units': 10,\n",
    "             'first_neuron': [4, 8, 16, 32, 64],\n",
    "             'hidden_layers': [2, 4, 6, 8, 9, 10, 20, 25, 30],\n",
    "             'kernel_constraint': maxnorm(3),\n",
    "             'batch_size': (64, 128, 512, 1024, 2048),\n",
    "             'epochs': epochs,\n",
    "             'dropout': (0, 0.5, 1),\n",
    "             'padding': 'same',\n",
    "             'metrics': ['accuracy'],\n",
    "             'weight_regulizer': [None],\n",
    "             'emb_output_dims': [None],\n",
    "             'shape': ['brick', 'long_funnel'],\n",
    "             'optimizer': ['adam', 'Nadam', 'RMSprop', SGD(lr=lr, momentum=momentum, decay=decay, nesterov=False)],\n",
    "             'losses': [mse, logcosh, binary_crossentropy, categorical_crossentropy],\n",
    "             'activation': [relu, elu, linear],\n",
    "             'last_activation': [softmax, sigmoid],\n",
    "             'nb_classes': 10}"
   ]
  },
  {
   "cell_type": "markdown",
   "metadata": {},
   "source": [
    "## 1. Choix des hyper-paramètre de manière random"
   ]
  },
  {
   "cell_type": "code",
   "execution_count": 6,
   "metadata": {},
   "outputs": [],
   "source": [
    "def _random_param(param):\n",
    "    \"\"\"\n",
    "    _random_param : do random to param values\n",
    "    :param param:\n",
    "    :return:\n",
    "    \"\"\"\n",
    "    rand_param = {'input_shape': param['input_shape'],\n",
    "                  'input_shape_cnn': param['input_shape_cnn'],\n",
    "                  'input_shape_rnn': param['input_shape_rnn'],\n",
    "                  'lr': param['lr'],\n",
    "                  'hidden_dim': param['hidden_dim'],\n",
    "                  'units': param['units'],\n",
    "                  'unitsSlp': param['unitsSlp'],\n",
    "                  'padding': param['padding'],\n",
    "                  'last_units': param['last_units'],\n",
    "                  'first_neuron': random.choice(param['first_neuron']),\n",
    "                  'hidden_layers': random.choice(param['hidden_layers']),\n",
    "                  'kernel_constraint': param['kernel_constraint'],\n",
    "                  'batch_size': random.choice(param['batch_size']),\n",
    "                  'epochs': param['epochs'],\n",
    "                  'dropout': random.choice(param['dropout']),\n",
    "                  'metrics': param['metrics'],\n",
    "                  'weight_regulizer': param['weight_regulizer'],\n",
    "                  'emb_output_dims': ['emb_output_dims'],\n",
    "                  'shape': random.choice(param['shape']),\n",
    "                  'optimizer': random.choice(param['optimizer']),\n",
    "                  'losses': random.choice(param['losses']),\n",
    "                  'activation': random.choice(param['activation']),\n",
    "                  'last_activation': random.choice(param['last_activation']),\n",
    "                  'nb_classes': param['nb_classes']}\n",
    "    return rand_param"
   ]
  },
  {
   "cell_type": "markdown",
   "metadata": {},
   "source": [
    "# II. Prétraitement de la donnée"
   ]
  },
  {
   "cell_type": "code",
   "execution_count": 7,
   "metadata": {
    "colab": {},
    "colab_type": "code",
    "id": "eGzzm6oOW0X5"
   },
   "outputs": [],
   "source": [
    "def _preprocess_cifar10():\n",
    "    \"\"\"\n",
    "    :param dataset:\n",
    "    :return:\n",
    "    \"\"\"\n",
    "    (__X_train, __y_train), (__X_test, __y_test) = cifar10.load_data()\n",
    "    # normalize inputs from 0-255 to 0.0-1.0\n",
    "    __X_train = __X_train.astype('float32')\n",
    "    __X_test = __X_test.astype('float32')\n",
    "    __X_train = __X_train / 255.0\n",
    "    __X_test = __X_test / 255.0\n",
    "\n",
    "    # one hot encode outputs\n",
    "    __y_train = np_utils.to_categorical(__y_train)\n",
    "    __y_test = np_utils.to_categorical(__y_test)\n",
    "\n",
    "    return (__X_train, __y_train), (__X_test, __y_test)"
   ]
  },
  {
   "cell_type": "markdown",
   "metadata": {},
   "source": [
    "## 1. Charge et prépare le dataset"
   ]
  },
  {
   "cell_type": "code",
   "execution_count": 8,
   "metadata": {},
   "outputs": [],
   "source": [
    "param = _random_param(Param)\n",
    "dataset = _preprocess_cifar10()"
   ]
  },
  {
   "cell_type": "code",
   "execution_count": 9,
   "metadata": {},
   "outputs": [],
   "source": [
    "# load data\n",
    "(X_train, y_train), (X_test, y_test) = dataset\n",
    "nb_classes = y_test.shape[1]"
   ]
  },
  {
   "cell_type": "markdown",
   "metadata": {},
   "source": [
    "# III. Defini le réseau"
   ]
  },
  {
   "cell_type": "markdown",
   "metadata": {},
   "source": [
    "## 1. Declaration du modèle"
   ]
  },
  {
   "cell_type": "code",
   "execution_count": 10,
   "metadata": {},
   "outputs": [],
   "source": [
    "model = Sequential()"
   ]
  },
  {
   "cell_type": "markdown",
   "metadata": {},
   "source": [
    "## 2. Ajout des couches"
   ]
  },
  {
   "cell_type": "code",
   "execution_count": 11,
   "metadata": {
    "colab": {
     "base_uri": "https://localhost:8080/",
     "height": 138
    },
    "colab_type": "code",
    "collapsed": false,
    "id": "lJRJ6AkfW0YP",
    "outputId": "bd5a5a48-90fe-4fba-94bd-02462cd4d2c2"
   },
   "outputs": [],
   "source": [
    "\n",
    "model.add(Conv2D(32, (3, 3),\n",
    "                 input_shape=param['input_shape_cnn'],\n",
    "                 activation=param['activation'],\n",
    "                 padding=param['padding']))\n",
    "\n",
    "model.add(Reshape((32, 32 * 32)))\n",
    "\n",
    "model.add(LSTM(32,\n",
    "               activation=param['activation'],\n",
    "               kernel_constraint=param['kernel_constraint'],\n",
    "               return_sequences=True\n",
    "               ))\n",
    "model.add(Dropout(0.2))\n",
    "model.add(LSTM(32, activation=param['activation'],\n",
    "               kernel_constraint=param['kernel_constraint']))\n",
    "model.add(Dropout(0.2))\n",
    "model.add(Dense(nb_classes,\n",
    "                activation=param['last_activation']))"
   ]
  },
  {
   "cell_type": "markdown",
   "metadata": {},
   "source": [
    "## 3. compile le modèle"
   ]
  },
  {
   "cell_type": "code",
   "execution_count": 12,
   "metadata": {},
   "outputs": [
    {
     "name": "stdout",
     "output_type": "stream",
     "text": [
      "_________________________________________________________________\n",
      "Layer (type)                 Output Shape              Param #   \n",
      "=================================================================\n",
      "conv2d_1 (Conv2D)            (None, 32, 32, 32)        896       \n",
      "_________________________________________________________________\n",
      "reshape_1 (Reshape)          (None, 32, 1024)          0         \n",
      "_________________________________________________________________\n",
      "lstm_1 (LSTM)                (None, 32, 32)            135296    \n",
      "_________________________________________________________________\n",
      "dropout_1 (Dropout)          (None, 32, 32)            0         \n",
      "_________________________________________________________________\n",
      "lstm_2 (LSTM)                (None, 32)                8320      \n",
      "_________________________________________________________________\n",
      "dropout_2 (Dropout)          (None, 32)                0         \n",
      "_________________________________________________________________\n",
      "dense_1 (Dense)              (None, 10)                330       \n",
      "=================================================================\n",
      "Total params: 144,842\n",
      "Trainable params: 144,842\n",
      "Non-trainable params: 0\n",
      "_________________________________________________________________\n"
     ]
    }
   ],
   "source": [
    "model.compile(loss=param['losses'],\n",
    "              optimizer=param['optimizer'],\n",
    "              metrics=['accuracy'])\n",
    "\n",
    "model.summary()"
   ]
  },
  {
   "cell_type": "markdown",
   "metadata": {},
   "source": [
    "## 4. Entrainement le modèle"
   ]
  },
  {
   "cell_type": "code",
   "execution_count": 13,
   "metadata": {
    "colab": {},
    "colab_type": "code",
    "id": "jOrVZHakW0YX"
   },
   "outputs": [
    {
     "name": "stdout",
     "output_type": "stream",
     "text": [
      "Train on 50000 samples, validate on 10000 samples\n",
      "Epoch 1/1\n",
      "50000/50000 [==============================] - 75s 1ms/step - loss: 0.1619 - acc: 0.1046 - val_loss: 0.1800 - val_acc: 0.1002\n"
     ]
    }
   ],
   "source": [
    "# Fit the model\n",
    "history = model.fit(X_train, y_train,\n",
    "                    validation_data=(X_test, y_test),\n",
    "                    epochs=param['epochs'],\n",
    "                    batch_size=param['batch_size'])"
   ]
  },
  {
   "cell_type": "markdown",
   "metadata": {},
   "source": [
    "## 5. Evalue le modèle"
   ]
  },
  {
   "cell_type": "code",
   "execution_count": 14,
   "metadata": {},
   "outputs": [
    {
     "name": "stdout",
     "output_type": "stream",
     "text": [
      "10000/10000 [==============================] - 7s 690us/step\n"
     ]
    }
   ],
   "source": [
    "score = model.evaluate(X_test, y_test, verbose=1)"
   ]
  },
  {
   "cell_type": "code",
   "execution_count": 15,
   "metadata": {
    "colab": {},
    "colab_type": "code",
    "id": "nDKS7izcW0Yg"
   },
   "outputs": [
    {
     "data": {
      "text/plain": [
       "[0.17995999805927276, 0.1002]"
      ]
     },
     "execution_count": 15,
     "metadata": {},
     "output_type": "execute_result"
    }
   ],
   "source": [
    "score"
   ]
  },
  {
   "cell_type": "code",
   "execution_count": null,
   "metadata": {},
   "outputs": [],
   "source": []
  }
 ],
 "metadata": {
  "accelerator": "GPU",
  "colab": {
   "collapsed_sections": [],
   "name": "CNN_LSTM.ipynb",
   "provenance": [],
   "version": "0.3.2"
  },
  "kernelspec": {
   "display_name": "Python (envPython36)",
   "language": "python",
   "name": "envpython36"
  },
  "language_info": {
   "codemirror_mode": {
    "name": "ipython",
    "version": 3
   },
   "file_extension": ".py",
   "mimetype": "text/x-python",
   "name": "python",
   "nbconvert_exporter": "python",
   "pygments_lexer": "ipython3",
   "version": "3.6.8"
  }
 },
 "nbformat": 4,
 "nbformat_minor": 2
}
